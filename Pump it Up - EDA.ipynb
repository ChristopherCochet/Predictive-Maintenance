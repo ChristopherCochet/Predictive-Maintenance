{
 "cells": [
  {
   "cell_type": "markdown",
   "metadata": {},
   "source": [
    "# Predicting faulty water pumps\n",
    "\n",
    "\n",
    "## Background\n",
    "\n",
    "This series of notebook will focus on a  predictive maintenance problem competition. The business challenge is brought by www.drivendata.org and the goal is to  predict the operation state (functional, repair needed, complete failure) of water pumps in Tanzania. The water pump data is provided by taarifa.org an organization that provides people the ability to report water and sanitation problems in Africa. Here is a dashboard of the status of water points in Tanzania: http://dashboard.taarifa.org/#/dashboard.</br>\n",
    "\n",
    "![Water Pump](http://drivendata.materials.s3.amazonaws.com/pumps/pumping.jpg) \n",
    "\n",
    "source: Pump image courtesy of flickr user christophercjensen\n",
    "\n",
    "\n",
    "## Business Objectives\n",
    "Using data from Taarifa and the Tanzanian Ministry of Water, we will be trying to predict which pumps are functional, which need some repairs, and which don't work at all. Prediction will be based on on a number of variables:  what kind of pump is operating, when it was installed, and how it is managed etc. A smart understanding of which waterpoints will fail can improve maintenance operations and ensure that clean, potable water is available to communities across Tanzania</br>\n",
    "\n",
    "Reference: https://www.drivendata.org/competitions/7/pump-it-up-data-mining-the-water-table"
   ]
  },
  {
   "cell_type": "markdown",
   "metadata": {},
   "source": [
    "## Project Notebooks Reference Links\n",
    "\n",
    "EDA >>> Data Clean-up & Pre_processing >>> Model Fine-tuning | Modelling & Predictions  "
   ]
  },
  {
   "cell_type": "markdown",
   "metadata": {},
   "source": [
    "# Exploratory Data Analysis¶"
   ]
  },
  {
   "cell_type": "markdown",
   "metadata": {},
   "source": [
    "## Import Libraries\n",
    "Import libraries necessary to get the exploratory data analysis (EDA) part of the project set-up"
   ]
  },
  {
   "cell_type": "code",
   "execution_count": 5,
   "metadata": {},
   "outputs": [],
   "source": [
    "import pandas as pd\n",
    "import numpy as np\n",
    "import matplotlib.pyplot as plt\n",
    "import seaborn as sns\n",
    "%matplotlib inline"
   ]
  },
  {
   "cell_type": "markdown",
   "metadata": {},
   "source": [
    "## The Water Pump Data and Files\n",
    "\n",
    "Read in the data pump files stored in the directory raw-data into Pandas dataframes"
   ]
  },
  {
   "cell_type": "code",
   "execution_count": 6,
   "metadata": {},
   "outputs": [
    {
     "name": "stdout",
     "output_type": "stream",
     "text": [
      " Volume in drive E is DATA\n",
      " Volume Serial Number is 6E98-6AE7\n",
      "\n",
      " Directory of E:\\GitHub\\Udacity\\machine-learning\\projects\\capstone-project\\raw-data\n",
      "\n",
      "06/18/2018  08:19 PM    <DIR>          .\n",
      "06/18/2018  08:19 PM    <DIR>          ..\n",
      "05/31/2018  12:19 PM         3,634,926 pump_test_features_df\n",
      "05/31/2018  12:20 PM         3,634,926 pump_test_features_df.pkl\n",
      "05/31/2018  12:19 PM        14,615,910 pump_train_features_df\n",
      "05/31/2018  12:20 PM        14,615,910 pump_train_features_df.pkl\n",
      "05/31/2018  12:19 PM           594,995 pump_train_label_df\n",
      "05/31/2018  12:20 PM           594,995 pump_train_label_df.pkl\n",
      "05/17/2018  12:31 PM         5,016,337 Water_Test_set_values.csv\n",
      "05/17/2018  12:30 PM         1,148,327 Water_Training_set_labels.csv\n",
      "05/17/2018  12:30 PM        20,069,199 Water_Training_set_values.csv\n",
      "06/18/2018  08:19 PM        32,059,977 wp_clean_data.pkl\n",
      "              10 File(s)     95,985,502 bytes\n",
      "               2 Dir(s)  1,927,476,584,448 bytes free\n"
     ]
    }
   ],
   "source": [
    "!dir raw-data"
   ]
  },
  {
   "cell_type": "code",
   "execution_count": 7,
   "metadata": {},
   "outputs": [
    {
     "name": "stdout",
     "output_type": "stream",
     "text": [
      "Water pump dataset raw-data\\Water_Training_set_values.csv has 59400 samples with 40 features each\n",
      "Water pump dataset raw-data\\Water_Training_set_labels.csv has 59400 samples with 2 features each\n",
      "Water pump dataset raw-data\\Water_Test_set_values.csv has 14850 samples with 40 features each\n"
     ]
    }
   ],
   "source": [
    "# Files to read\n",
    "csv_data_sets = ['Water_Training_set_values.csv', 'Water_Training_set_labels.csv', 'Water_Test_set_values.csv']\n",
    "# used to store dataframes: train_features_df, train_label_df, test_features_df\n",
    "df_list = [] \n",
    "\n",
    "df_i = 0\n",
    "# Read in the training values, training labels and testing data sets\n",
    "for i in csv_data_sets:\n",
    "    try:\n",
    "        data_file = 'raw-data\\\\'+ i\n",
    "        df_list.append(pd.read_csv(data_file))\n",
    "        print(\"Water pump dataset {} has {} samples with {} features each\".format(data_file, *df_list[df_i].shape))\n",
    "    except:\n",
    "        print(\"Water pump dataset {} could not be loaded. Is the dataset missing?\".format(data_file))\n",
    "    df_i+=1"
   ]
  },
  {
   "cell_type": "code",
   "execution_count": 8,
   "metadata": {},
   "outputs": [
    {
     "name": "stdout",
     "output_type": "stream",
     "text": [
      "('Confirm shapes of the train and test dataframes:', (59400, 40), (59400, 2), (14850, 40))\n"
     ]
    }
   ],
   "source": [
    "# set up the data frames that we will be using to perform EDA \n",
    "train_features_df = df_list[0]\n",
    "train_label_df = df_list[1]\n",
    "test_features_df = df_list[2]\n",
    "print(\"Confirm shapes of the train and test dataframes:\",train_features_df.shape, train_label_df.shape, test_features_df.shape)"
   ]
  },
  {
   "cell_type": "code",
   "execution_count": 9,
   "metadata": {},
   "outputs": [
    {
     "data": {
      "text/html": [
       "<div>\n",
       "<style scoped>\n",
       "    .dataframe tbody tr th:only-of-type {\n",
       "        vertical-align: middle;\n",
       "    }\n",
       "\n",
       "    .dataframe tbody tr th {\n",
       "        vertical-align: top;\n",
       "    }\n",
       "\n",
       "    .dataframe thead th {\n",
       "        text-align: right;\n",
       "    }\n",
       "</style>\n",
       "<table border=\"1\" class=\"dataframe\">\n",
       "  <thead>\n",
       "    <tr style=\"text-align: right;\">\n",
       "      <th></th>\n",
       "      <th>id</th>\n",
       "      <th>amount_tsh</th>\n",
       "      <th>date_recorded</th>\n",
       "      <th>funder</th>\n",
       "      <th>gps_height</th>\n",
       "      <th>installer</th>\n",
       "      <th>longitude</th>\n",
       "      <th>latitude</th>\n",
       "      <th>wpt_name</th>\n",
       "      <th>num_private</th>\n",
       "      <th>...</th>\n",
       "      <th>payment_type</th>\n",
       "      <th>water_quality</th>\n",
       "      <th>quality_group</th>\n",
       "      <th>quantity</th>\n",
       "      <th>quantity_group</th>\n",
       "      <th>source</th>\n",
       "      <th>source_type</th>\n",
       "      <th>source_class</th>\n",
       "      <th>waterpoint_type</th>\n",
       "      <th>waterpoint_type_group</th>\n",
       "    </tr>\n",
       "  </thead>\n",
       "  <tbody>\n",
       "    <tr>\n",
       "      <th>0</th>\n",
       "      <td>69572</td>\n",
       "      <td>6000.0</td>\n",
       "      <td>2011-03-14</td>\n",
       "      <td>Roman</td>\n",
       "      <td>1390</td>\n",
       "      <td>Roman</td>\n",
       "      <td>34.938093</td>\n",
       "      <td>-9.856322</td>\n",
       "      <td>none</td>\n",
       "      <td>0</td>\n",
       "      <td>...</td>\n",
       "      <td>annually</td>\n",
       "      <td>soft</td>\n",
       "      <td>good</td>\n",
       "      <td>enough</td>\n",
       "      <td>enough</td>\n",
       "      <td>spring</td>\n",
       "      <td>spring</td>\n",
       "      <td>groundwater</td>\n",
       "      <td>communal standpipe</td>\n",
       "      <td>communal standpipe</td>\n",
       "    </tr>\n",
       "    <tr>\n",
       "      <th>1</th>\n",
       "      <td>8776</td>\n",
       "      <td>0.0</td>\n",
       "      <td>2013-03-06</td>\n",
       "      <td>Grumeti</td>\n",
       "      <td>1399</td>\n",
       "      <td>GRUMETI</td>\n",
       "      <td>34.698766</td>\n",
       "      <td>-2.147466</td>\n",
       "      <td>Zahanati</td>\n",
       "      <td>0</td>\n",
       "      <td>...</td>\n",
       "      <td>never pay</td>\n",
       "      <td>soft</td>\n",
       "      <td>good</td>\n",
       "      <td>insufficient</td>\n",
       "      <td>insufficient</td>\n",
       "      <td>rainwater harvesting</td>\n",
       "      <td>rainwater harvesting</td>\n",
       "      <td>surface</td>\n",
       "      <td>communal standpipe</td>\n",
       "      <td>communal standpipe</td>\n",
       "    </tr>\n",
       "    <tr>\n",
       "      <th>2</th>\n",
       "      <td>34310</td>\n",
       "      <td>25.0</td>\n",
       "      <td>2013-02-25</td>\n",
       "      <td>Lottery Club</td>\n",
       "      <td>686</td>\n",
       "      <td>World vision</td>\n",
       "      <td>37.460664</td>\n",
       "      <td>-3.821329</td>\n",
       "      <td>Kwa Mahundi</td>\n",
       "      <td>0</td>\n",
       "      <td>...</td>\n",
       "      <td>per bucket</td>\n",
       "      <td>soft</td>\n",
       "      <td>good</td>\n",
       "      <td>enough</td>\n",
       "      <td>enough</td>\n",
       "      <td>dam</td>\n",
       "      <td>dam</td>\n",
       "      <td>surface</td>\n",
       "      <td>communal standpipe multiple</td>\n",
       "      <td>communal standpipe</td>\n",
       "    </tr>\n",
       "    <tr>\n",
       "      <th>3</th>\n",
       "      <td>67743</td>\n",
       "      <td>0.0</td>\n",
       "      <td>2013-01-28</td>\n",
       "      <td>Unicef</td>\n",
       "      <td>263</td>\n",
       "      <td>UNICEF</td>\n",
       "      <td>38.486161</td>\n",
       "      <td>-11.155298</td>\n",
       "      <td>Zahanati Ya Nanyumbu</td>\n",
       "      <td>0</td>\n",
       "      <td>...</td>\n",
       "      <td>never pay</td>\n",
       "      <td>soft</td>\n",
       "      <td>good</td>\n",
       "      <td>dry</td>\n",
       "      <td>dry</td>\n",
       "      <td>machine dbh</td>\n",
       "      <td>borehole</td>\n",
       "      <td>groundwater</td>\n",
       "      <td>communal standpipe multiple</td>\n",
       "      <td>communal standpipe</td>\n",
       "    </tr>\n",
       "    <tr>\n",
       "      <th>4</th>\n",
       "      <td>19728</td>\n",
       "      <td>0.0</td>\n",
       "      <td>2011-07-13</td>\n",
       "      <td>Action In A</td>\n",
       "      <td>0</td>\n",
       "      <td>Artisan</td>\n",
       "      <td>31.130847</td>\n",
       "      <td>-1.825359</td>\n",
       "      <td>Shuleni</td>\n",
       "      <td>0</td>\n",
       "      <td>...</td>\n",
       "      <td>never pay</td>\n",
       "      <td>soft</td>\n",
       "      <td>good</td>\n",
       "      <td>seasonal</td>\n",
       "      <td>seasonal</td>\n",
       "      <td>rainwater harvesting</td>\n",
       "      <td>rainwater harvesting</td>\n",
       "      <td>surface</td>\n",
       "      <td>communal standpipe</td>\n",
       "      <td>communal standpipe</td>\n",
       "    </tr>\n",
       "  </tbody>\n",
       "</table>\n",
       "<p>5 rows × 40 columns</p>\n",
       "</div>"
      ],
      "text/plain": [
       "      id  amount_tsh date_recorded        funder  gps_height     installer  \\\n",
       "0  69572      6000.0    2011-03-14         Roman        1390         Roman   \n",
       "1   8776         0.0    2013-03-06       Grumeti        1399       GRUMETI   \n",
       "2  34310        25.0    2013-02-25  Lottery Club         686  World vision   \n",
       "3  67743         0.0    2013-01-28        Unicef         263        UNICEF   \n",
       "4  19728         0.0    2011-07-13   Action In A           0       Artisan   \n",
       "\n",
       "   longitude   latitude              wpt_name  num_private  \\\n",
       "0  34.938093  -9.856322                  none            0   \n",
       "1  34.698766  -2.147466              Zahanati            0   \n",
       "2  37.460664  -3.821329           Kwa Mahundi            0   \n",
       "3  38.486161 -11.155298  Zahanati Ya Nanyumbu            0   \n",
       "4  31.130847  -1.825359               Shuleni            0   \n",
       "\n",
       "           ...          payment_type water_quality quality_group  \\\n",
       "0          ...              annually          soft          good   \n",
       "1          ...             never pay          soft          good   \n",
       "2          ...            per bucket          soft          good   \n",
       "3          ...             never pay          soft          good   \n",
       "4          ...             never pay          soft          good   \n",
       "\n",
       "       quantity  quantity_group                source           source_type  \\\n",
       "0        enough          enough                spring                spring   \n",
       "1  insufficient    insufficient  rainwater harvesting  rainwater harvesting   \n",
       "2        enough          enough                   dam                   dam   \n",
       "3           dry             dry           machine dbh              borehole   \n",
       "4      seasonal        seasonal  rainwater harvesting  rainwater harvesting   \n",
       "\n",
       "   source_class              waterpoint_type waterpoint_type_group  \n",
       "0   groundwater           communal standpipe    communal standpipe  \n",
       "1       surface           communal standpipe    communal standpipe  \n",
       "2       surface  communal standpipe multiple    communal standpipe  \n",
       "3   groundwater  communal standpipe multiple    communal standpipe  \n",
       "4       surface           communal standpipe    communal standpipe  \n",
       "\n",
       "[5 rows x 40 columns]"
      ]
     },
     "execution_count": 9,
     "metadata": {},
     "output_type": "execute_result"
    }
   ],
   "source": [
    "# Look at the foirst few rows of the data set\n",
    "train_features_df.head()"
   ]
  },
  {
   "cell_type": "markdown",
   "metadata": {},
   "source": [
    "## Exploration of Features\n",
    "\n",
    "Below is a data disctionary provided (source: https://www.drivendata.org/competitions/7/pump-it-up-data-mining-the-water-table/page/25/)\n",
    "* amount_tsh - Total static head (amount water available to waterpoint) <br/>\n",
    "* date_recorded - The date the row was entered <br/>\n",
    "* funder - Who funded the well <br/>\n",
    "* gps_height - Altitude of the well<br/>\n",
    "* installer - Organization that installed the well<br/>\n",
    "* longitude - GPS coordinate <br/>\n",
    "* latitude - GPS coordinate <br/>\n",
    "* wpt_name - Name of the waterpoint if there is one <br/>\n",
    "* num_private -\n",
    "* basin - Geographic water basin<br/>\n",
    "* subvillage - Geographic location<br/>\n",
    "* region - Geographic location<br/>\n",
    "* region_code - Geographic location (coded)<br/>\n",
    "* district_code - Geographic location (coded)<br/>\n",
    "* lga - Geographic location<br/>\n",
    "* ward - Geographic location<br/>\n",
    "* population - Population around the well<br/>\n",
    "* public_meeting - True/False<br/>\n",
    "* recorded_by - Group entering this row of data<br/>\n",
    "* scheme_management - Who operates the waterpoint<br/>\n",
    "* scheme_name - Who operates the waterpoint<br/>\n",
    "* permit - If the waterpoint is permitted<br/>\n",
    "* construction_year - Year the waterpoint was constructed<br/>\n",
    "* extraction_type - The kind of extraction the waterpoint uses<br/>\n",
    "* extraction_type_group - The kind of extraction the waterpoint uses<br/>\n",
    "* extraction_type_class - The kind of extraction the waterpoint uses<br/>\n",
    "* management - How the waterpoint is managed<br/>\n",
    "* management_group - How the waterpoint is managed<br/>\n",
    "* payment - What the water costs<br/>\n",
    "* payment_type - What the water costs<br/>\n",
    "* water_quality - The quality of the water<br/>\n",
    "* quality_group - The quality of the water<br/>\n",
    "* quantity - The quantity of water<br/>\n",
    "* quantity_group - The quantity of water<br/>\n",
    "* source - The source of the water<br/>\n",
    "* source_type - The source of the water<br/>\n",
    "* source_class - The source of the water<br/>\n",
    "* waterpoint_type - The kind of waterpoint<br/>\n",
    "* waterpoint_type_group - The kind of waterpoint"
   ]
  },
  {
   "cell_type": "code",
   "execution_count": 10,
   "metadata": {},
   "outputs": [
    {
     "name": "stdout",
     "output_type": "stream",
     "text": [
      "<class 'pandas.core.frame.DataFrame'>\n",
      "RangeIndex: 59400 entries, 0 to 59399\n",
      "Data columns (total 40 columns):\n",
      "id                       59400 non-null int64\n",
      "amount_tsh               59400 non-null float64\n",
      "date_recorded            59400 non-null object\n",
      "funder                   55765 non-null object\n",
      "gps_height               59400 non-null int64\n",
      "installer                55745 non-null object\n",
      "longitude                59400 non-null float64\n",
      "latitude                 59400 non-null float64\n",
      "wpt_name                 59400 non-null object\n",
      "num_private              59400 non-null int64\n",
      "basin                    59400 non-null object\n",
      "subvillage               59029 non-null object\n",
      "region                   59400 non-null object\n",
      "region_code              59400 non-null int64\n",
      "district_code            59400 non-null int64\n",
      "lga                      59400 non-null object\n",
      "ward                     59400 non-null object\n",
      "population               59400 non-null int64\n",
      "public_meeting           56066 non-null object\n",
      "recorded_by              59400 non-null object\n",
      "scheme_management        55523 non-null object\n",
      "scheme_name              31234 non-null object\n",
      "permit                   56344 non-null object\n",
      "construction_year        59400 non-null int64\n",
      "extraction_type          59400 non-null object\n",
      "extraction_type_group    59400 non-null object\n",
      "extraction_type_class    59400 non-null object\n",
      "management               59400 non-null object\n",
      "management_group         59400 non-null object\n",
      "payment                  59400 non-null object\n",
      "payment_type             59400 non-null object\n",
      "water_quality            59400 non-null object\n",
      "quality_group            59400 non-null object\n",
      "quantity                 59400 non-null object\n",
      "quantity_group           59400 non-null object\n",
      "source                   59400 non-null object\n",
      "source_type              59400 non-null object\n",
      "source_class             59400 non-null object\n",
      "waterpoint_type          59400 non-null object\n",
      "waterpoint_type_group    59400 non-null object\n",
      "dtypes: float64(3), int64(7), object(30)\n",
      "memory usage: 18.1+ MB\n"
     ]
    }
   ],
   "source": [
    "# Explore the features of the train set and  dtypes - 40 features  \n",
    "train_features_df.info()"
   ]
  },
  {
   "cell_type": "markdown",
   "metadata": {},
   "source": [
    "Wow, there are a lot of categorical features - actually 30/40 features are categorical! Let's take a look at the different categories of these features and their distribution"
   ]
  },
  {
   "cell_type": "code",
   "execution_count": 11,
   "metadata": {},
   "outputs": [
    {
     "data": {
      "text/html": [
       "<div>\n",
       "<style scoped>\n",
       "    .dataframe tbody tr th:only-of-type {\n",
       "        vertical-align: middle;\n",
       "    }\n",
       "\n",
       "    .dataframe tbody tr th {\n",
       "        vertical-align: top;\n",
       "    }\n",
       "\n",
       "    .dataframe thead th {\n",
       "        text-align: right;\n",
       "    }\n",
       "</style>\n",
       "<table border=\"1\" class=\"dataframe\">\n",
       "  <thead>\n",
       "    <tr style=\"text-align: right;\">\n",
       "      <th></th>\n",
       "      <th>date_recorded</th>\n",
       "      <th>funder</th>\n",
       "      <th>installer</th>\n",
       "      <th>wpt_name</th>\n",
       "      <th>basin</th>\n",
       "      <th>subvillage</th>\n",
       "      <th>region</th>\n",
       "      <th>lga</th>\n",
       "      <th>ward</th>\n",
       "      <th>public_meeting</th>\n",
       "      <th>...</th>\n",
       "      <th>payment_type</th>\n",
       "      <th>water_quality</th>\n",
       "      <th>quality_group</th>\n",
       "      <th>quantity</th>\n",
       "      <th>quantity_group</th>\n",
       "      <th>source</th>\n",
       "      <th>source_type</th>\n",
       "      <th>source_class</th>\n",
       "      <th>waterpoint_type</th>\n",
       "      <th>waterpoint_type_group</th>\n",
       "    </tr>\n",
       "  </thead>\n",
       "  <tbody>\n",
       "    <tr>\n",
       "      <th>0</th>\n",
       "      <td>2011-03-14</td>\n",
       "      <td>Roman</td>\n",
       "      <td>Roman</td>\n",
       "      <td>none</td>\n",
       "      <td>Lake Nyasa</td>\n",
       "      <td>Mnyusi B</td>\n",
       "      <td>Iringa</td>\n",
       "      <td>Ludewa</td>\n",
       "      <td>Mundindi</td>\n",
       "      <td>True</td>\n",
       "      <td>...</td>\n",
       "      <td>annually</td>\n",
       "      <td>soft</td>\n",
       "      <td>good</td>\n",
       "      <td>enough</td>\n",
       "      <td>enough</td>\n",
       "      <td>spring</td>\n",
       "      <td>spring</td>\n",
       "      <td>groundwater</td>\n",
       "      <td>communal standpipe</td>\n",
       "      <td>communal standpipe</td>\n",
       "    </tr>\n",
       "    <tr>\n",
       "      <th>1</th>\n",
       "      <td>2013-03-06</td>\n",
       "      <td>Grumeti</td>\n",
       "      <td>GRUMETI</td>\n",
       "      <td>Zahanati</td>\n",
       "      <td>Lake Victoria</td>\n",
       "      <td>Nyamara</td>\n",
       "      <td>Mara</td>\n",
       "      <td>Serengeti</td>\n",
       "      <td>Natta</td>\n",
       "      <td>NaN</td>\n",
       "      <td>...</td>\n",
       "      <td>never pay</td>\n",
       "      <td>soft</td>\n",
       "      <td>good</td>\n",
       "      <td>insufficient</td>\n",
       "      <td>insufficient</td>\n",
       "      <td>rainwater harvesting</td>\n",
       "      <td>rainwater harvesting</td>\n",
       "      <td>surface</td>\n",
       "      <td>communal standpipe</td>\n",
       "      <td>communal standpipe</td>\n",
       "    </tr>\n",
       "    <tr>\n",
       "      <th>2</th>\n",
       "      <td>2013-02-25</td>\n",
       "      <td>Lottery Club</td>\n",
       "      <td>World vision</td>\n",
       "      <td>Kwa Mahundi</td>\n",
       "      <td>Pangani</td>\n",
       "      <td>Majengo</td>\n",
       "      <td>Manyara</td>\n",
       "      <td>Simanjiro</td>\n",
       "      <td>Ngorika</td>\n",
       "      <td>True</td>\n",
       "      <td>...</td>\n",
       "      <td>per bucket</td>\n",
       "      <td>soft</td>\n",
       "      <td>good</td>\n",
       "      <td>enough</td>\n",
       "      <td>enough</td>\n",
       "      <td>dam</td>\n",
       "      <td>dam</td>\n",
       "      <td>surface</td>\n",
       "      <td>communal standpipe multiple</td>\n",
       "      <td>communal standpipe</td>\n",
       "    </tr>\n",
       "    <tr>\n",
       "      <th>3</th>\n",
       "      <td>2013-01-28</td>\n",
       "      <td>Unicef</td>\n",
       "      <td>UNICEF</td>\n",
       "      <td>Zahanati Ya Nanyumbu</td>\n",
       "      <td>Ruvuma / Southern Coast</td>\n",
       "      <td>Mahakamani</td>\n",
       "      <td>Mtwara</td>\n",
       "      <td>Nanyumbu</td>\n",
       "      <td>Nanyumbu</td>\n",
       "      <td>True</td>\n",
       "      <td>...</td>\n",
       "      <td>never pay</td>\n",
       "      <td>soft</td>\n",
       "      <td>good</td>\n",
       "      <td>dry</td>\n",
       "      <td>dry</td>\n",
       "      <td>machine dbh</td>\n",
       "      <td>borehole</td>\n",
       "      <td>groundwater</td>\n",
       "      <td>communal standpipe multiple</td>\n",
       "      <td>communal standpipe</td>\n",
       "    </tr>\n",
       "    <tr>\n",
       "      <th>4</th>\n",
       "      <td>2011-07-13</td>\n",
       "      <td>Action In A</td>\n",
       "      <td>Artisan</td>\n",
       "      <td>Shuleni</td>\n",
       "      <td>Lake Victoria</td>\n",
       "      <td>Kyanyamisa</td>\n",
       "      <td>Kagera</td>\n",
       "      <td>Karagwe</td>\n",
       "      <td>Nyakasimbi</td>\n",
       "      <td>True</td>\n",
       "      <td>...</td>\n",
       "      <td>never pay</td>\n",
       "      <td>soft</td>\n",
       "      <td>good</td>\n",
       "      <td>seasonal</td>\n",
       "      <td>seasonal</td>\n",
       "      <td>rainwater harvesting</td>\n",
       "      <td>rainwater harvesting</td>\n",
       "      <td>surface</td>\n",
       "      <td>communal standpipe</td>\n",
       "      <td>communal standpipe</td>\n",
       "    </tr>\n",
       "  </tbody>\n",
       "</table>\n",
       "<p>5 rows × 30 columns</p>\n",
       "</div>"
      ],
      "text/plain": [
       "  date_recorded        funder     installer              wpt_name  \\\n",
       "0    2011-03-14         Roman         Roman                  none   \n",
       "1    2013-03-06       Grumeti       GRUMETI              Zahanati   \n",
       "2    2013-02-25  Lottery Club  World vision           Kwa Mahundi   \n",
       "3    2013-01-28        Unicef        UNICEF  Zahanati Ya Nanyumbu   \n",
       "4    2011-07-13   Action In A       Artisan               Shuleni   \n",
       "\n",
       "                     basin  subvillage   region        lga        ward  \\\n",
       "0               Lake Nyasa    Mnyusi B   Iringa     Ludewa    Mundindi   \n",
       "1            Lake Victoria     Nyamara     Mara  Serengeti       Natta   \n",
       "2                  Pangani     Majengo  Manyara  Simanjiro     Ngorika   \n",
       "3  Ruvuma / Southern Coast  Mahakamani   Mtwara   Nanyumbu    Nanyumbu   \n",
       "4            Lake Victoria  Kyanyamisa   Kagera    Karagwe  Nyakasimbi   \n",
       "\n",
       "  public_meeting          ...          payment_type water_quality  \\\n",
       "0           True          ...              annually          soft   \n",
       "1            NaN          ...             never pay          soft   \n",
       "2           True          ...            per bucket          soft   \n",
       "3           True          ...             never pay          soft   \n",
       "4           True          ...             never pay          soft   \n",
       "\n",
       "  quality_group      quantity quantity_group                source  \\\n",
       "0          good        enough         enough                spring   \n",
       "1          good  insufficient   insufficient  rainwater harvesting   \n",
       "2          good        enough         enough                   dam   \n",
       "3          good           dry            dry           machine dbh   \n",
       "4          good      seasonal       seasonal  rainwater harvesting   \n",
       "\n",
       "            source_type source_class              waterpoint_type  \\\n",
       "0                spring  groundwater           communal standpipe   \n",
       "1  rainwater harvesting      surface           communal standpipe   \n",
       "2                   dam      surface  communal standpipe multiple   \n",
       "3              borehole  groundwater  communal standpipe multiple   \n",
       "4  rainwater harvesting      surface           communal standpipe   \n",
       "\n",
       "  waterpoint_type_group  \n",
       "0    communal standpipe  \n",
       "1    communal standpipe  \n",
       "2    communal standpipe  \n",
       "3    communal standpipe  \n",
       "4    communal standpipe  \n",
       "\n",
       "[5 rows x 30 columns]"
      ]
     },
     "execution_count": 11,
     "metadata": {},
     "output_type": "execute_result"
    }
   ],
   "source": [
    "#let's check the categorical features\n",
    "categorical_features_df = train_features_df.select_dtypes(include=['object']).copy()\n",
    "categorical_features_df.head()"
   ]
  },
  {
   "cell_type": "code",
   "execution_count": 12,
   "metadata": {},
   "outputs": [],
   "source": [
    "# Store the list of categorical features\n",
    "categorical_cols = categorical_features_df.columns.tolist()\n",
    "# Remove dates features\n",
    "categorical_cols = categorical_cols[1:] "
   ]
  },
  {
   "cell_type": "markdown",
   "metadata": {},
   "source": [
    "#### Cardinality and samples of categorical features"
   ]
  },
  {
   "cell_type": "code",
   "execution_count": 13,
   "metadata": {},
   "outputs": [
    {
     "data": {
      "text/plain": [
       "wpt_name                 37400\n",
       "subvillage               19287\n",
       "scheme_name               2696\n",
       "installer                 2145\n",
       "ward                      2092\n",
       "funder                    1897\n",
       "date_recorded              356\n",
       "lga                        125\n",
       "region                      21\n",
       "extraction_type             18\n",
       "extraction_type_group       13\n",
       "management                  12\n",
       "scheme_management           12\n",
       "source                      10\n",
       "basin                        9\n",
       "water_quality                8\n",
       "payment                      7\n",
       "extraction_type_class        7\n",
       "waterpoint_type              7\n",
       "source_type                  7\n",
       "payment_type                 7\n",
       "quality_group                6\n",
       "waterpoint_type_group        6\n",
       "quantity                     5\n",
       "quantity_group               5\n",
       "management_group             5\n",
       "source_class                 3\n",
       "permit                       2\n",
       "public_meeting               2\n",
       "recorded_by                  1\n",
       "dtype: int64"
      ]
     },
     "execution_count": 13,
     "metadata": {},
     "output_type": "execute_result"
    }
   ],
   "source": [
    "# let's look at the cardinality of categorical features\n",
    "categorical_features_df.nunique().sort_values(ascending=False)"
   ]
  },
  {
   "cell_type": "markdown",
   "metadata": {},
   "source": [
    "There is a very large spread of cardinality amongst the categorical features, we will have to be on the look-out in our encoding approach for our modelling "
   ]
  },
  {
   "cell_type": "code",
   "execution_count": 14,
   "metadata": {},
   "outputs": [
    {
     "name": "stdout",
     "output_type": "stream",
     "text": [
      "***** 'funder' feature has '1897' category type *****\n",
      "['Roman' 'Grumeti' 'Lottery Club' ... 'Dina' 'Brown' 'Samlo']\n",
      "***** 'installer' feature has '2145' category type *****\n",
      "['Roman' 'GRUMETI' 'World vision' ... 'Dina' 'brown' 'SELEPTA']\n",
      "***** 'wpt_name' feature has '37400' category type *****\n",
      "['none' 'Zahanati' 'Kwa Mahundi' ... 'Kwa Yahona Kuvala' 'Mshoro'\n",
      " 'Kwa Mzee Lugawa']\n",
      "***** 'basin' feature has '9' category type *****\n",
      "['Lake Nyasa' 'Lake Victoria' 'Pangani' 'Ruvuma / Southern Coast'\n",
      " 'Internal' 'Lake Tanganyika' 'Wami / Ruvu' 'Rufiji' 'Lake Rukwa']\n",
      "***** 'subvillage' feature has '19287' category type *****\n",
      "['Mnyusi B' 'Nyamara' 'Majengo' ... 'Itete B' 'Maore Kati' 'Kikatanyemba']\n",
      "***** 'region' feature has '21' category type *****\n",
      "['Iringa' 'Mara' 'Manyara' 'Mtwara' 'Kagera' 'Tanga' 'Shinyanga' 'Tabora'\n",
      " 'Pwani' 'Ruvuma' 'Kilimanjaro' 'Rukwa' 'Mwanza' 'Kigoma' 'Lindi' 'Dodoma'\n",
      " 'Arusha' 'Mbeya' 'Singida' 'Morogoro' 'Dar es Salaam']\n",
      "***** 'lga' feature has '125' category type *****\n",
      "['Ludewa' 'Serengeti' 'Simanjiro' 'Nanyumbu' 'Karagwe' 'Mkinga'\n",
      " 'Shinyanga Rural' 'Kahama' 'Tabora Urban' 'Mkuranga' 'Namtumbo' 'Maswa'\n",
      " 'Siha' 'Meatu' 'Sumbawanga Rural' 'Njombe' 'Ukerewe' 'Bariadi' 'Same'\n",
      " 'Kigoma Rural' 'Moshi Rural' 'Lindi Rural' 'Rombo' 'Chamwino' 'Bagamoyo'\n",
      " 'Mafia' 'Arusha Rural' 'Kyela' 'Kondoa' 'Kilolo' 'Kibondo' 'Makete'\n",
      " 'Singida Rural' 'Masasi' 'Rungwe' 'Moshi Urban' 'Geita' 'Mbulu'\n",
      " 'Bukoba Rural' 'Muheza' 'Lushoto' 'Meru' 'Iramba' 'Kilombero' 'Mbarali'\n",
      " 'Kasulu' 'Bukoba Urban' 'Korogwe' 'Bukombe' 'Morogoro Rural' 'Kishapu'\n",
      " 'Musoma Rural' 'Sengerema' 'Iringa Rural' 'Muleba' 'Dodoma Urban'\n",
      " 'Ruangwa' 'Hanang' 'Misenyi' 'Missungwi' 'Songea Rural' 'Tanga' 'Tunduru'\n",
      " 'Hai' 'Mwanga' 'Chato' 'Biharamulo' 'Ileje' 'Mpwapwa' 'Mvomero' 'Bunda'\n",
      " 'Kiteto' 'Longido' 'Urambo' 'Mbozi' 'Sikonge' 'Ilala' 'Tarime' 'Temeke'\n",
      " 'Mbeya Rural' 'Magu' 'Manyoni' 'Igunga' 'Kilosa' 'Babati' 'Chunya'\n",
      " 'Mufindi' 'Mtwara Rural' 'Ngara' 'Karatu' 'Mpanda' 'Kibaha'\n",
      " 'Singida Urban' 'Newala' 'Nzega' 'Nkasi' 'Bahi' 'Mbinga' 'Ulanga'\n",
      " 'Sumbawanga Urban' 'Morogoro Urban' 'Tandahimba' 'Kisarawe'\n",
      " 'Mtwara Urban' 'Kilwa' 'Liwale' 'Kongwa' 'Uyui' 'Rufiji' 'Kwimba'\n",
      " 'Monduli' 'Shinyanga Urban' 'Ngorongoro' 'Handeni' 'Rorya' 'Pangani'\n",
      " 'Lindi Urban' 'Nachingwea' 'Kinondoni' 'Kigoma Urban' 'Ilemela' 'Kilindi'\n",
      " 'Arusha Urban' 'Songea Urban' 'Nyamagana']\n",
      "***** 'ward' feature has '2092' category type *****\n",
      "['Mundindi' 'Natta' 'Ngorika' ... 'Chinugulu' 'Nyamtinga' 'Kinungu']\n",
      "***** 'public_meeting' feature has '2' category type *****\n",
      "[True nan False]\n",
      "***** 'recorded_by' feature has '1' category type *****\n",
      "['GeoData Consultants Ltd']\n",
      "***** 'scheme_management' feature has '12' category type *****\n",
      "['VWC' 'Other' nan 'Private operator' 'WUG' 'Water Board' 'WUA'\n",
      " 'Water authority' 'Company' 'Parastatal' 'Trust' 'SWC' 'None']\n",
      "***** 'scheme_name' feature has '2696' category type *****\n",
      "['Roman' nan 'Nyumba ya mungu pipe scheme' ... 'BL Nsherehehe'\n",
      " 'Magati  gravity spri' 'Mtawanya']\n",
      "***** 'permit' feature has '2' category type *****\n",
      "[False True nan]\n",
      "***** 'extraction_type' feature has '18' category type *****\n",
      "['gravity' 'submersible' 'swn 80' 'nira/tanira' 'india mark ii' 'other'\n",
      " 'ksb' 'mono' 'windmill' 'afridev' 'other - rope pump' 'india mark iii'\n",
      " 'other - swn 81' 'other - play pump' 'cemo' 'climax' 'walimi'\n",
      " 'other - mkulima/shinyanga']\n",
      "***** 'extraction_type_group' feature has '13' category type *****\n",
      "['gravity' 'submersible' 'swn 80' 'nira/tanira' 'india mark ii' 'other'\n",
      " 'mono' 'wind-powered' 'afridev' 'rope pump' 'india mark iii'\n",
      " 'other handpump' 'other motorpump']\n",
      "***** 'extraction_type_class' feature has '7' category type *****\n",
      "['gravity' 'submersible' 'handpump' 'other' 'motorpump' 'wind-powered'\n",
      " 'rope pump']\n",
      "***** 'management' feature has '12' category type *****\n",
      "['vwc' 'wug' 'other' 'private operator' 'water board' 'wua' 'company'\n",
      " 'water authority' 'parastatal' 'unknown' 'other - school' 'trust']\n",
      "***** 'management_group' feature has '5' category type *****\n",
      "['user-group' 'other' 'commercial' 'parastatal' 'unknown']\n",
      "***** 'payment' feature has '7' category type *****\n",
      "['pay annually' 'never pay' 'pay per bucket' 'unknown'\n",
      " 'pay when scheme fails' 'other' 'pay monthly']\n",
      "***** 'payment_type' feature has '7' category type *****\n",
      "['annually' 'never pay' 'per bucket' 'unknown' 'on failure' 'other'\n",
      " 'monthly']\n",
      "***** 'water_quality' feature has '8' category type *****\n",
      "['soft' 'salty' 'milky' 'unknown' 'fluoride' 'coloured' 'salty abandoned'\n",
      " 'fluoride abandoned']\n",
      "***** 'quality_group' feature has '6' category type *****\n",
      "['good' 'salty' 'milky' 'unknown' 'fluoride' 'colored']\n",
      "***** 'quantity' feature has '5' category type *****\n",
      "['enough' 'insufficient' 'dry' 'seasonal' 'unknown']\n",
      "***** 'quantity_group' feature has '5' category type *****\n",
      "['enough' 'insufficient' 'dry' 'seasonal' 'unknown']\n",
      "***** 'source' feature has '10' category type *****\n",
      "['spring' 'rainwater harvesting' 'dam' 'machine dbh' 'other'\n",
      " 'shallow well' 'river' 'hand dtw' 'lake' 'unknown']\n",
      "***** 'source_type' feature has '7' category type *****\n",
      "['spring' 'rainwater harvesting' 'dam' 'borehole' 'other' 'shallow well'\n",
      " 'river/lake']\n",
      "***** 'source_class' feature has '3' category type *****\n",
      "['groundwater' 'surface' 'unknown']\n",
      "***** 'waterpoint_type' feature has '7' category type *****\n",
      "['communal standpipe' 'communal standpipe multiple' 'hand pump' 'other'\n",
      " 'improved spring' 'cattle trough' 'dam']\n",
      "***** 'waterpoint_type_group' feature has '6' category type *****\n",
      "['communal standpipe' 'hand pump' 'other' 'improved spring'\n",
      " 'cattle trough' 'dam']\n"
     ]
    }
   ],
   "source": [
    "# let's sample the categorical features\n",
    "for i in categorical_cols:\n",
    "    print (\"***** \\'{}\\' feature has \\'{}\\' category type *****\".format(i,categorical_features_df[i].nunique()))\n",
    "    print(categorical_features_df[i].unique())"
   ]
  },
  {
   "cell_type": "markdown",
   "metadata": {},
   "source": [
    "We observe that some categories have missing or incomplete data fields - e.g. 'nan', 'unknown' etc.\n",
    "We also observe that lower and upper cases aren't consistent for some of the string categorical values: 'Grumeti' vs 'GRUMETI'"
   ]
  },
  {
   "cell_type": "markdown",
   "metadata": {},
   "source": [
    "#### Let look in more detail at a few key features\n",
    "In particular, we will look into how the distribution of water pump observation by the following interesting features:\n",
    "* location\n",
    "* water point type\n",
    "* management group\n",
    "* quality\n",
    "* water source"
   ]
  },
  {
   "cell_type": "code",
   "execution_count": 15,
   "metadata": {},
   "outputs": [
    {
     "name": "stdout",
     "output_type": "stream",
     "text": [
      "***** 'waterpoint_type' feature distribution breakdown *****\n"
     ]
    },
    {
     "data": {
      "image/png": "[encoded data removed]",
      "text/plain": [
       "<matplotlib.figure.Figure at 0x1fb0f828>"
      ]
     },
     "metadata": {},
     "output_type": "display_data"
    },
    {
     "name": "stdout",
     "output_type": "stream",
     "text": [
      "***** 'water_quality' feature distribution breakdown *****\n"
     ]
    },
    {
     "data": {
      "image/png": "[encoded data removed]",
      "text/plain": [
       "<matplotlib.figure.Figure at 0x6da3a58>"
      ]
     },
     "metadata": {},
     "output_type": "display_data"
    },
    {
     "name": "stdout",
     "output_type": "stream",
     "text": [
      "***** 'source_type' feature distribution breakdown *****\n"
     ]
    },
    {
     "data": {
      "image/png": "[encoded data removed]",
      "text/plain": [
       "<matplotlib.figure.Figure at 0x1abc5dd8>"
      ]
     },
     "metadata": {},
     "output_type": "display_data"
    },
    {
     "name": "stdout",
     "output_type": "stream",
     "text": [
      "***** 'region' feature distribution breakdown *****\n"
     ]
    },
    {
     "data": {
      "image/png": "[encoded data removed]",
      "text/plain": [
       "<matplotlib.figure.Figure at 0x1fc96b00>"
      ]
     },
     "metadata": {},
     "output_type": "display_data"
    },
    {
     "name": "stdout",
     "output_type": "stream",
     "text": [
      "***** 'management_group' feature distribution breakdown *****\n"
     ]
    },
    {
     "data": {
      "image/png": "[encoded data removed]",
      "text/plain": [
       "<matplotlib.figure.Figure at 0x1fc96b38>"
      ]
     },
     "metadata": {},
     "output_type": "display_data"
    }
   ],
   "source": [
    "# Categorical features of interest\n",
    "sample_categorical_features = ['waterpoint_type', 'water_quality', 'source_type','region', 'management_group']\n",
    "for i in sample_categorical_features:\n",
    "    print(\"***** \\'{}\\' feature distribution breakdown *****\".format(i))\n",
    "    #print(categorical_features_df[i].value_counts())\n",
    "    sns.set(style='darkgrid')\n",
    "    fig = plt.figure(figsize = (20,4))\n",
    "    sns.countplot(x=i,data=categorical_features_df, order = categorical_features_df[i].value_counts().index)\n",
    "    plt.show()"
   ]
  },
  {
   "cell_type": "code",
   "execution_count": 16,
   "metadata": {},
   "outputs": [
    {
     "data": {
      "text/html": [
       "<div>\n",
       "<style scoped>\n",
       "    .dataframe tbody tr th:only-of-type {\n",
       "        vertical-align: middle;\n",
       "    }\n",
       "\n",
       "    .dataframe tbody tr th {\n",
       "        vertical-align: top;\n",
       "    }\n",
       "\n",
       "    .dataframe thead th {\n",
       "        text-align: right;\n",
       "    }\n",
       "</style>\n",
       "<table border=\"1\" class=\"dataframe\">\n",
       "  <thead>\n",
       "    <tr style=\"text-align: right;\">\n",
       "      <th></th>\n",
       "      <th>id</th>\n",
       "      <th>amount_tsh</th>\n",
       "      <th>gps_height</th>\n",
       "      <th>longitude</th>\n",
       "      <th>latitude</th>\n",
       "      <th>num_private</th>\n",
       "      <th>region_code</th>\n",
       "      <th>district_code</th>\n",
       "      <th>population</th>\n",
       "      <th>construction_year</th>\n",
       "    </tr>\n",
       "  </thead>\n",
       "  <tbody>\n",
       "    <tr>\n",
       "      <th>0</th>\n",
       "      <td>69572</td>\n",
       "      <td>6000.0</td>\n",
       "      <td>1390</td>\n",
       "      <td>34.938093</td>\n",
       "      <td>-9.856322</td>\n",
       "      <td>0</td>\n",
       "      <td>11</td>\n",
       "      <td>5</td>\n",
       "      <td>109</td>\n",
       "      <td>1999</td>\n",
       "    </tr>\n",
       "    <tr>\n",
       "      <th>1</th>\n",
       "      <td>8776</td>\n",
       "      <td>0.0</td>\n",
       "      <td>1399</td>\n",
       "      <td>34.698766</td>\n",
       "      <td>-2.147466</td>\n",
       "      <td>0</td>\n",
       "      <td>20</td>\n",
       "      <td>2</td>\n",
       "      <td>280</td>\n",
       "      <td>2010</td>\n",
       "    </tr>\n",
       "    <tr>\n",
       "      <th>2</th>\n",
       "      <td>34310</td>\n",
       "      <td>25.0</td>\n",
       "      <td>686</td>\n",
       "      <td>37.460664</td>\n",
       "      <td>-3.821329</td>\n",
       "      <td>0</td>\n",
       "      <td>21</td>\n",
       "      <td>4</td>\n",
       "      <td>250</td>\n",
       "      <td>2009</td>\n",
       "    </tr>\n",
       "    <tr>\n",
       "      <th>3</th>\n",
       "      <td>67743</td>\n",
       "      <td>0.0</td>\n",
       "      <td>263</td>\n",
       "      <td>38.486161</td>\n",
       "      <td>-11.155298</td>\n",
       "      <td>0</td>\n",
       "      <td>90</td>\n",
       "      <td>63</td>\n",
       "      <td>58</td>\n",
       "      <td>1986</td>\n",
       "    </tr>\n",
       "    <tr>\n",
       "      <th>4</th>\n",
       "      <td>19728</td>\n",
       "      <td>0.0</td>\n",
       "      <td>0</td>\n",
       "      <td>31.130847</td>\n",
       "      <td>-1.825359</td>\n",
       "      <td>0</td>\n",
       "      <td>18</td>\n",
       "      <td>1</td>\n",
       "      <td>0</td>\n",
       "      <td>0</td>\n",
       "    </tr>\n",
       "  </tbody>\n",
       "</table>\n",
       "</div>"
      ],
      "text/plain": [
       "      id  amount_tsh  gps_height  longitude   latitude  num_private  \\\n",
       "0  69572      6000.0        1390  34.938093  -9.856322            0   \n",
       "1   8776         0.0        1399  34.698766  -2.147466            0   \n",
       "2  34310        25.0         686  37.460664  -3.821329            0   \n",
       "3  67743         0.0         263  38.486161 -11.155298            0   \n",
       "4  19728         0.0           0  31.130847  -1.825359            0   \n",
       "\n",
       "   region_code  district_code  population  construction_year  \n",
       "0           11              5         109               1999  \n",
       "1           20              2         280               2010  \n",
       "2           21              4         250               2009  \n",
       "3           90             63          58               1986  \n",
       "4           18              1           0                  0  "
      ]
     },
     "execution_count": 16,
     "metadata": {},
     "output_type": "execute_result"
    }
   ],
   "source": [
    "#let's check the categorical features\n",
    "numerical_features_df = train_features_df.select_dtypes(include=['int64','float64']).copy()\n",
    "numerical_features_df.head()"
   ]
  },
  {
   "cell_type": "markdown",
   "metadata": {},
   "source": [
    "A couple of observations:\n",
    "* most of the numerical features are ordinals (codes) or location infromation\n",
    "* the only numerical value is amount_tsh: the total static head (amount water available to waterpoint) \n",
    "* we can derive another feature - the age of the pump - from the consruction year"
   ]
  },
  {
   "cell_type": "code",
   "execution_count": 17,
   "metadata": {},
   "outputs": [],
   "source": [
    "# Store the list of numerical features\n",
    "numerical_cols = numerical_features_df.columns.tolist()"
   ]
  },
  {
   "cell_type": "markdown",
   "metadata": {},
   "source": [
    "Let's look at the static head numerical info feature (source: www.pumpsandsystems.com):\n",
    "![static head](https://www.pumpsandsystems.com/sites/default/files/Rockwell_20Fig2.jpg)"
   ]
  },
  {
   "cell_type": "code",
   "execution_count": 18,
   "metadata": {},
   "outputs": [
    {
     "data": {
      "text/plain": [
       "count     59400.000000\n",
       "mean        317.650385\n",
       "std        2997.574558\n",
       "min           0.000000\n",
       "25%           0.000000\n",
       "50%           0.000000\n",
       "75%          20.000000\n",
       "max      350000.000000\n",
       "Name: amount_tsh, dtype: float64"
      ]
     },
     "execution_count": 18,
     "metadata": {},
     "output_type": "execute_result"
    }
   ],
   "source": [
    "# total static head stats profile\n",
    "numerical_features_df['amount_tsh'].describe()"
   ]
  },
  {
   "cell_type": "markdown",
   "metadata": {},
   "source": [
    "Wow, there are huge variations in this numerical feature. Let's box plot it. "
   ]
  },
  {
   "cell_type": "code",
   "execution_count": 19,
   "metadata": {},
   "outputs": [
    {
     "data": {
      "text/plain": [
       "<matplotlib.axes._subplots.AxesSubplot at 0x1b82d6a0>"
      ]
     },
     "execution_count": 19,
     "metadata": {},
     "output_type": "execute_result"
    },
    {
     "data": {
      "image/png": "[encoded data removed]",
      "text/plain": [
       "<matplotlib.figure.Figure at 0x1b624eb8>"
      ]
     },
     "metadata": {},
     "output_type": "display_data"
    }
   ],
   "source": [
    "plt.figure(figsize=(12, 7))\n",
    "sns.boxplot(x=numerical_features_df['amount_tsh'])"
   ]
  },
  {
   "cell_type": "markdown",
   "metadata": {},
   "source": [
    "There seems to be significant outliers in this numerical features, we will need to deal with these as well before modelling  "
   ]
  },
  {
   "cell_type": "markdown",
   "metadata": {},
   "source": [
    "### Exploration of labels¶\n",
    "The labels that we will use to train our modelon represent the status of the water pumps"
   ]
  },
  {
   "cell_type": "code",
   "execution_count": 20,
   "metadata": {},
   "outputs": [
    {
     "name": "stdout",
     "output_type": "stream",
     "text": [
      "<class 'pandas.core.frame.DataFrame'>\n",
      "RangeIndex: 59400 entries, 0 to 59399\n",
      "Data columns (total 2 columns):\n",
      "id              59400 non-null int64\n",
      "status_group    59400 non-null object\n",
      "dtypes: int64(1), object(1)\n",
      "memory usage: 928.2+ KB\n"
     ]
    }
   ],
   "source": [
    "# Explore the features of the train label set \n",
    "train_label_df.info()"
   ]
  },
  {
   "cell_type": "code",
   "execution_count": 21,
   "metadata": {},
   "outputs": [
    {
     "data": {
      "text/plain": [
       "<matplotlib.axes._subplots.AxesSubplot at 0x1fe89940>"
      ]
     },
     "execution_count": 21,
     "metadata": {},
     "output_type": "execute_result"
    },
    {
     "data": {
      "image/png": "[encoded data removed]",
      "text/plain": [
       "<matplotlib.figure.Figure at 0x1b822c50>"
      ]
     },
     "metadata": {},
     "output_type": "display_data"
    }
   ],
   "source": [
    "# There are three water pumps possible labels\n",
    "#train_label_df['status_group'].value_counts()\n",
    "sns.countplot(x='status_group',data=train_label_df)"
   ]
  },
  {
   "cell_type": "markdown",
   "metadata": {},
   "source": [
    "We observe that one of the classes is imbalanced - functional needs repair is under represented."
   ]
  },
  {
   "cell_type": "markdown",
   "metadata": {},
   "source": [
    "\n",
    "## Missing or Duplicate Data Observations\n",
    "\n",
    "Use seaborn to create a simple heatmap to see where we are missing data!"
   ]
  },
  {
   "cell_type": "markdown",
   "metadata": {},
   "source": [
    "### Check the feature test data set"
   ]
  },
  {
   "cell_type": "code",
   "execution_count": 22,
   "metadata": {},
   "outputs": [
    {
     "data": {
      "text/plain": [
       "<matplotlib.axes._subplots.AxesSubplot at 0x1fbea9e8>"
      ]
     },
     "execution_count": 22,
     "metadata": {},
     "output_type": "execute_result"
    },
    {
     "data": {
      "image/png": "[encoded data removed]",
      "text/plain": [
       "<matplotlib.figure.Figure at 0x200a69e8>"
      ]
     },
     "metadata": {},
     "output_type": "display_data"
    }
   ],
   "source": [
    "# get an overview of the missing training data fields (NaN) in yellow\n",
    "plt.figure(figsize=(20, 7))\n",
    "sns.heatmap(train_features_df.isnull(),yticklabels=False,cbar=False,cmap='viridis')"
   ]
  },
  {
   "cell_type": "markdown",
   "metadata": {},
   "source": [
    "There are definitely some missing values in this data sets\n",
    "Let look in more detail at how mainy NaN we have for each feature"
   ]
  },
  {
   "cell_type": "code",
   "execution_count": 23,
   "metadata": {},
   "outputs": [
    {
     "data": {
      "text/plain": [
       "scheme_name              28166\n",
       "scheme_management         3877\n",
       "installer                 3655\n",
       "funder                    3635\n",
       "public_meeting            3334\n",
       "permit                    3056\n",
       "subvillage                 371\n",
       "ward                         0\n",
       "lga                          0\n",
       "district_code                0\n",
       "region_code                  0\n",
       "region                       0\n",
       "waterpoint_type_group        0\n",
       "population                   0\n",
       "num_private                  0\n",
       "wpt_name                     0\n",
       "latitude                     0\n",
       "longitude                    0\n",
       "gps_height                   0\n",
       "date_recorded                0\n",
       "dtype: int64"
      ]
     },
     "execution_count": 23,
     "metadata": {},
     "output_type": "execute_result"
    }
   ],
   "source": [
    "# compute number of Nan values for the data set\n",
    "num_null_val = train_features_df.isnull().sum().sort_values(ascending=False).head(20)\n",
    "num_null_val"
   ]
  },
  {
   "cell_type": "code",
   "execution_count": 34,
   "metadata": {},
   "outputs": [
    {
     "data": {
      "text/plain": [
       "id                        0.000000\n",
       "amount_tsh                0.000000\n",
       "date_recorded             0.000000\n",
       "funder                    6.119529\n",
       "gps_height                0.000000\n",
       "installer                 6.153199\n",
       "longitude                 0.000000\n",
       "latitude                  0.000000\n",
       "wpt_name                  0.000000\n",
       "num_private               0.000000\n",
       "basin                     0.000000\n",
       "subvillage                0.624579\n",
       "region                    0.000000\n",
       "region_code               0.000000\n",
       "district_code             0.000000\n",
       "lga                       0.000000\n",
       "ward                      0.000000\n",
       "population                0.000000\n",
       "public_meeting            5.612795\n",
       "recorded_by               0.000000\n",
       "scheme_management         6.526936\n",
       "scheme_name              47.417508\n",
       "permit                    5.144781\n",
       "construction_year         0.000000\n",
       "extraction_type           0.000000\n",
       "extraction_type_group     0.000000\n",
       "extraction_type_class     0.000000\n",
       "management                0.000000\n",
       "management_group          0.000000\n",
       "payment                   0.000000\n",
       "payment_type              0.000000\n",
       "water_quality             0.000000\n",
       "quality_group             0.000000\n",
       "quantity                  0.000000\n",
       "quantity_group            0.000000\n",
       "source                    0.000000\n",
       "source_type               0.000000\n",
       "source_class              0.000000\n",
       "waterpoint_type           0.000000\n",
       "waterpoint_type_group     0.000000\n",
       "dtype: float64"
      ]
     },
     "execution_count": 34,
     "metadata": {},
     "output_type": "execute_result"
    }
   ],
   "source": [
    "train_features_df.isnull().mean()*100"
   ]
  },
  {
   "cell_type": "markdown",
   "metadata": {},
   "source": [
    "About half the scheme_name feature's values are missing - we might consider dropping this feature. Other features have some missing values but we should be able to impute these missing values "
   ]
  },
  {
   "cell_type": "code",
   "execution_count": 169,
   "metadata": {},
   "outputs": [
    {
     "data": {
      "text/plain": [
       "0"
      ]
     },
     "execution_count": 169,
     "metadata": {},
     "output_type": "execute_result"
    }
   ],
   "source": [
    "# now check for duplicates\n",
    "train_features_df.duplicated().sum()"
   ]
  },
  {
   "cell_type": "markdown",
   "metadata": {},
   "source": [
    "No duplicates in the training data set"
   ]
  },
  {
   "cell_type": "markdown",
   "metadata": {},
   "source": [
    "### Check the feature label and test data sets"
   ]
  },
  {
   "cell_type": "markdown",
   "metadata": {},
   "source": [
    "Let's check the labels and the test data sets for missing values"
   ]
  },
  {
   "cell_type": "code",
   "execution_count": 164,
   "metadata": {},
   "outputs": [
    {
     "data": {
      "text/plain": [
       "status_group    0\n",
       "id              0\n",
       "dtype: int64"
      ]
     },
     "execution_count": 164,
     "metadata": {},
     "output_type": "execute_result"
    }
   ],
   "source": [
    "#train_label_df\n",
    "num_null_val = train_label_df.isnull().sum().sort_values(ascending=False).head(20)\n",
    "num_null_val\n",
    "#train_features_df.duplicated().sum()"
   ]
  },
  {
   "cell_type": "code",
   "execution_count": 170,
   "metadata": {},
   "outputs": [
    {
     "data": {
      "text/plain": [
       "0"
      ]
     },
     "execution_count": 170,
     "metadata": {},
     "output_type": "execute_result"
    }
   ],
   "source": [
    "# now check for duplicates\n",
    "train_label_df.duplicated().sum()"
   ]
  },
  {
   "cell_type": "markdown",
   "metadata": {},
   "source": [
    "No missing or duplicate values for the label data set"
   ]
  },
  {
   "cell_type": "code",
   "execution_count": 167,
   "metadata": {},
   "outputs": [
    {
     "data": {
      "text/plain": [
       "<matplotlib.axes._subplots.AxesSubplot at 0x1a2f49e8>"
      ]
     },
     "execution_count": 167,
     "metadata": {},
     "output_type": "execute_result"
    },
    {
     "data": {
      "image/png": "[encoded data removed]",
      "text/plain": [
       "<matplotlib.figure.Figure at 0x1e174908>"
      ]
     },
     "metadata": {},
     "output_type": "display_data"
    }
   ],
   "source": [
    "# get an overview of the missing test data fields (NaN) in yellow\n",
    "plt.figure(figsize=(20, 7))\n",
    "sns.heatmap(test_features_df.isnull(),yticklabels=False,cbar=False,cmap='viridis')"
   ]
  },
  {
   "cell_type": "code",
   "execution_count": 168,
   "metadata": {},
   "outputs": [
    {
     "data": {
      "text/plain": [
       "scheme_name              7092\n",
       "scheme_management         969\n",
       "installer                 877\n",
       "funder                    869\n",
       "public_meeting            821\n",
       "permit                    737\n",
       "subvillage                 99\n",
       "ward                        0\n",
       "lga                         0\n",
       "district_code               0\n",
       "region_code                 0\n",
       "region                      0\n",
       "waterpoint_type_group       0\n",
       "population                  0\n",
       "num_private                 0\n",
       "wpt_name                    0\n",
       "latitude                    0\n",
       "longitude                   0\n",
       "gps_height                  0\n",
       "date_recorded               0\n",
       "dtype: int64"
      ]
     },
     "execution_count": 168,
     "metadata": {},
     "output_type": "execute_result"
    }
   ],
   "source": [
    "#test_features_df\n",
    "num_null_val = test_features_df.isnull().sum().sort_values(ascending=False).head(20)\n",
    "num_null_val"
   ]
  },
  {
   "cell_type": "markdown",
   "metadata": {},
   "source": [
    "Similar to the test data set, many scheme_name feature's values are missing. Other features have some missing values as well"
   ]
  },
  {
   "cell_type": "code",
   "execution_count": 173,
   "metadata": {},
   "outputs": [
    {
     "data": {
      "text/plain": [
       "0"
      ]
     },
     "execution_count": 173,
     "metadata": {},
     "output_type": "execute_result"
    }
   ],
   "source": [
    "# now check for duplicates\n",
    "test_features_df.duplicated().sum()"
   ]
  },
  {
   "cell_type": "markdown",
   "metadata": {},
   "source": [
    "No duplicates in the test data set"
   ]
  },
  {
   "cell_type": "markdown",
   "metadata": {},
   "source": [
    "#### Let's save our pandas data frames to use in the next python notebook"
   ]
  },
  {
   "cell_type": "code",
   "execution_count": 184,
   "metadata": {},
   "outputs": [],
   "source": [
    "# Save our panda dfs in raw-data\n",
    "train_features_df.to_pickle('raw-data\\pump_train_features_df.pkl')\n",
    "train_label_df.to_pickle('raw-data\\pump_train_label_df.pkl')\n",
    "test_features_df.to_pickle('raw-data\\pump_test_features_df.pkl')"
   ]
  },
  {
   "cell_type": "code",
   "execution_count": 185,
   "metadata": {},
   "outputs": [
    {
     "name": "stdout",
     "output_type": "stream",
     "text": [
      " Volume in drive E is DATA\n",
      " Volume Serial Number is 6E98-6AE7\n",
      "\n",
      " Directory of E:\\GitHub\\Udacity\\machine-learning\\projects\\capstone-project\\raw-data\n",
      "\n",
      "05/31/2018  12:20 PM         3,634,926 pump_test_features_df.pkl\n",
      "05/31/2018  12:20 PM        14,615,910 pump_train_features_df.pkl\n",
      "05/31/2018  12:20 PM           594,995 pump_train_label_df.pkl\n",
      "               3 File(s)     18,845,831 bytes\n",
      "               0 Dir(s)  1,928,202,792,960 bytes free\n"
     ]
    }
   ],
   "source": [
    "!dir raw-data\\*.pkl"
   ]
  },
  {
   "cell_type": "markdown",
   "metadata": {},
   "source": [
    "### In the next phase and Jupyter notebook, we will clean and pre-process our data to feed in our ML benchmark (logistic regression)"
   ]
  },
  {
   "cell_type": "code",
   "execution_count": null,
   "metadata": {},
   "outputs": [],
   "source": []
  }
 ],
 "metadata": {
  "kernelspec": {
   "display_name": "Python 3",
   "language": "python",
   "name": "python3"
  },
  "language_info": {
   "codemirror_mode": {
    "name": "ipython",
    "version": 3
   },
   "file_extension": ".py",
   "mimetype": "text/x-python",
   "name": "python",
   "nbconvert_exporter": "python",
   "pygments_lexer": "ipython3",
   "version": "3.6.6"
  }
 },
 "nbformat": 4,
 "nbformat_minor": 1
}
