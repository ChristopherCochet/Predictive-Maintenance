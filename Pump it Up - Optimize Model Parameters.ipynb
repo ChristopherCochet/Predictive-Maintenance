{
 "cells": [
  {
   "cell_type": "markdown",
   "metadata": {},
   "source": [
    "# Predicting faulty water pumps"
   ]
  },
  {
   "cell_type": "markdown",
   "metadata": {},
   "source": [
    "## Optimize Model Paramaters¶"
   ]
  },
  {
   "cell_type": "markdown",
   "metadata": {},
   "source": [
    "## Import Libraries\n",
    "Import libraries necessary to get the models trained"
   ]
  },
  {
   "cell_type": "code",
   "execution_count": 1,
   "metadata": {},
   "outputs": [],
   "source": [
    "import datetime\n",
    "import pickle\n",
    "import pandas as pd\n",
    "import numpy as np\n",
    "import matplotlib.pyplot as plt\n",
    "import scipy.stats as ss\n",
    "from sklearn.model_selection import StratifiedKFold\n",
    "from sklearn.model_selection import cross_val_score\n",
    "from sklearn.preprocessing import LabelEncoder, StandardScaler\n",
    "from sklearn.pipeline import Pipeline, make_pipeline\n",
    "from sklearn.decomposition import PCA\n",
    "from IPython.display import display  # use of display() for DataFrames\n",
    "\n",
    "# Import Preprocessing and ML libraries\n",
    "from sklearn.utils import shuffle\n",
    "from sklearn.ensemble import GradientBoostingClassifier, RandomForestClassifier\n",
    "from sklearn.model_selection import train_test_split, StratifiedShuffleSplit, GridSearchCV, RandomizedSearchCV\n",
    "from sklearn.metrics import classification_report, confusion_matrix, make_scorer, accuracy_score, f1_score\n",
    "\n",
    "from xgboost import XGBClassifier\n",
    "\n",
    "\n",
    "%matplotlib inline"
   ]
  },
  {
   "cell_type": "code",
   "execution_count": 2,
   "metadata": {},
   "outputs": [],
   "source": [
    "# Utility encoder function\n",
    "def encode_label(label_series):\n",
    "    encoder = LabelEncoder()\n",
    "    encoder.fit(label_series)\n",
    "    encoded_label_series = encoder.transform(label_series)\n",
    "    return (utils.to_categorical(encoded_label_series))"
   ]
  },
  {
   "cell_type": "markdown",
   "metadata": {},
   "source": [
    "## Select environment"
   ]
  },
  {
   "cell_type": "code",
   "execution_count": 3,
   "metadata": {},
   "outputs": [],
   "source": [
    "# Choose Environment: 'floydhub' or 'local'\n",
    "model_env = 'local' "
   ]
  },
  {
   "cell_type": "code",
   "execution_count": 4,
   "metadata": {},
   "outputs": [
    {
     "name": "stderr",
     "output_type": "stream",
     "text": [
      "Using MXNet backend\n"
     ]
    },
    {
     "name": "stdout",
     "output_type": "stream",
     "text": [
      "MXNet version = 1.2.0\n",
      "Keras version = 2.2.0\n"
     ]
    }
   ],
   "source": [
    "if model_env == 'local':\n",
    "    import keras\n",
    "    import mxnet as mx\n",
    "#    import tensorflow as tf\n",
    "    from keras import utils\n",
    "    from keras.callbacks import ModelCheckpoint\n",
    "    from keras.models import Sequential\n",
    "    from keras.layers import Dense, Dropout\n",
    "    from keras.wrappers.scikit_learn import KerasClassifier    \n",
    "\n",
    "    # Show the deep learning library versions\n",
    "    print (\"MXNet version = {}\".format(mx.__version__))\n",
    "    print (\"Keras version = {}\".format(keras.__version__))"
   ]
  },
  {
   "cell_type": "code",
   "execution_count": 40,
   "metadata": {},
   "outputs": [],
   "source": [
    "# import tensorflow as tf\n",
    "#if tf.test.gpu_device_name():\n",
    "#    print('Default GPU Device: {}'.format(tf.test.gpu_device_name()))\n",
    "#else:\n",
    "#    print(\"Please install GPU version of TF\")"
   ]
  },
  {
   "cell_type": "code",
   "execution_count": 5,
   "metadata": {},
   "outputs": [
    {
     "name": "stdout",
     "output_type": "stream",
     "text": [
      "GPU found! => gpu(0)\n"
     ]
    }
   ],
   "source": [
    "if model_env == 'local':\n",
    "    # check GPU status\n",
    "    def gpu_device(gpu_number=0):\n",
    "        try:\n",
    "            _ = mx.nd.array([1, 2, 3], ctx=mx.gpu(gpu_number))\n",
    "        except mx.MXNetError:\n",
    "            return None\n",
    "        return mx.gpu(gpu_number)\n",
    "\n",
    "    gpu = gpu_device()\n",
    "    if not gpu:\n",
    "        print('No GPU device found!')\n",
    "    else:\n",
    "        print(\"GPU found! => {}\".format(gpu))"
   ]
  },
  {
   "cell_type": "markdown",
   "metadata": {},
   "source": [
    "### Directory path and file where model will be saved "
   ]
  },
  {
   "cell_type": "code",
   "execution_count": 6,
   "metadata": {},
   "outputs": [],
   "source": [
    "model_data_dir = 'model-tuning\\\\'\n",
    "# model_nn_file = model_data_dir + 'pump_train_nn_weights_best.hdf5'\n",
    "# model_nn_file = 'pump_train_nn_weights_best.hdf5'"
   ]
  },
  {
   "cell_type": "markdown",
   "metadata": {},
   "source": [
    "## Load Water Pump Data Files, Create Data Frames and Clean The Data\n",
    "\n",
    "### Read in the data pump files stored in the directory raw-data into Pandas dataframes"
   ]
  },
  {
   "cell_type": "code",
   "execution_count": 6,
   "metadata": {},
   "outputs": [
    {
     "name": "stdout",
     "output_type": "stream",
     "text": [
      " Volume in drive E is DATA\n",
      " Volume Serial Number is 6E98-6AE7\n",
      "\n",
      " Directory of E:\\GitHub\\Udacity\\machine-learning\\projects\\capstone-project\\clean-data\n",
      "\n",
      "07/28/2018  04:20 PM        15,825,599 clean_wp_data_object.pkl\n",
      "07/28/2018  03:05 PM        15,823,293 clean_wp_data_object_18072815.pkl\n",
      "07/28/2018  02:23 PM         3,048,453 clean_wp_test_features_df_18072814.pkl\n",
      "07/28/2018  03:05 PM         3,048,453 clean_wp_test_features_df_18072815.pkl\n",
      "07/28/2018  02:23 PM        12,241,432 clean_wp_train_features_df_18072814.pkl\n",
      "07/28/2018  03:05 PM        12,241,432 clean_wp_train_features_df_18072815.pkl\n",
      "               6 File(s)     62,228,662 bytes\n",
      "               0 Dir(s)  1,927,182,659,584 bytes free\n"
     ]
    }
   ],
   "source": [
    "if model_env == 'local':\n",
    "    !dir clean-data\\*.pkl\n",
    "else:\n",
    "    !ls /clean-data/*.pkl"
   ]
  },
  {
   "cell_type": "markdown",
   "metadata": {},
   "source": [
    "### Load Cleaned Water Pump Data Set"
   ]
  },
  {
   "cell_type": "code",
   "execution_count": 8,
   "metadata": {},
   "outputs": [
    {
     "name": "stdout",
     "output_type": "stream",
     "text": [
      "Environment is local => clean-data\\clean_wp_train_features_df_18072814.pkl\n"
     ]
    },
    {
     "data": {
      "text/plain": [
       "(59400, 122)"
      ]
     },
     "execution_count": 8,
     "metadata": {},
     "output_type": "execute_result"
    }
   ],
   "source": [
    "local_file_path = 'clean-data\\\\clean_wp_train_features_df_18072814.pkl'\n",
    "floydhub_file_path = '/clean-data/clean_wp_train_features_df_18071011.pkl'\n",
    "\n",
    "if model_env == 'local':\n",
    "    wp_test_file = local_file_path\n",
    "else:\n",
    "    wp_test_file = floydhub_file_path\n",
    "\n",
    "print(\"Environment is {} => {}\".format(\n",
    "    model_env, wp_test_file))\n",
    "\n",
    "test_df = pd.read_pickle(wp_test_file)\n",
    "test_df.shape"
   ]
  },
  {
   "cell_type": "markdown",
   "metadata": {},
   "source": [
    "### Create a training and test sets to evaluate models "
   ]
  },
  {
   "cell_type": "code",
   "execution_count": 9,
   "metadata": {},
   "outputs": [
    {
     "name": "stdout",
     "output_type": "stream",
     "text": [
      "Training set has (41580, 121) samples.\n",
      "Testing set has (17820, 121) samples.\n"
     ]
    }
   ],
   "source": [
    "label_col = 'status_group'\n",
    "target_df = test_df[label_col]\n",
    "feature_df = test_df.drop(label_col, axis=1)\n",
    "\n",
    "X_train, X_test, y_train, y_test = train_test_split(\n",
    "    feature_df, target_df, test_size=0.3)\n",
    "\n",
    "# Show the results of the split\n",
    "print(\"Training set has {} samples.\".format(X_train.shape))\n",
    "print(\"Testing set has {} samples.\".format(X_test.shape))"
   ]
  },
  {
   "cell_type": "code",
   "execution_count": 10,
   "metadata": {},
   "outputs": [
    {
     "data": {
      "text/plain": [
       "6049         functional\n",
       "13141    non functional\n",
       "35647        functional\n",
       "56359    non functional\n",
       "11804        functional\n",
       "Name: status_group, dtype: category\n",
       "Categories (3, object): [functional, functional needs repair, non functional]"
      ]
     },
     "execution_count": 10,
     "metadata": {},
     "output_type": "execute_result"
    }
   ],
   "source": [
    "y_test.head()"
   ]
  },
  {
   "cell_type": "markdown",
   "metadata": {},
   "source": [
    "### Tune two ensemble models on the data set"
   ]
  },
  {
   "cell_type": "markdown",
   "metadata": {},
   "source": [
    "#### Tune the Random Forest Model\n",
    "Use a gridsearch with key model hyper parameters"
   ]
  },
  {
   "cell_type": "code",
   "execution_count": 16,
   "metadata": {},
   "outputs": [],
   "source": [
    "rfc = RandomForestClassifier(class_weight='balanced', n_jobs=-1)\n",
    "\n",
    "# n_estimators=10, criterion=’gini’, max_depth=None, min_samples_split=2, min_samples_leaf=1, min_weight_fraction_leaf=0.0,\n",
    "# max_features=’auto’, max_leaf_nodes=None, min_impurity_decrease=0.0, min_impurity_split=None,\n",
    "# bootstrap=True, oob_score=False, n_jobs=1, random_state=None, verbose=0, warm_start=False, class_weight=None)\n",
    "\n",
    "parameters = {'n_estimators': [500, 1000, 2000], 'max_depth': [5, 20, 30, 40, 50],\n",
    "              'min_samples_leaf': [1, 4, 8],'min_samples_split': [2, 5, 10]}\n",
    "\n",
    "# to better manage imbalance outcome classes\n",
    "sss_cv = StratifiedShuffleSplit(n_splits=3, test_size=0.3, random_state=0)\n",
    "\n",
    "# Make an f1_score scoring object using make_scorer()\n",
    "scorer = make_scorer(f1_score, average='macro')\n",
    "\n",
    "# Perform grid search on the classifier using 'scorer' as the scoring method using GridSearchCV()\n",
    "grid_obj = RandomizedSearchCV(estimator=rfc, param_distributions=parameters,\n",
    "                        scoring=scorer, cv=sss_cv, n_jobs=-1)\n",
    "\n",
    "# Fit the grid search object to the training data and find the optimal parameters using fit()\n",
    "grid_fit = grid_obj.fit(X_train, y_train)"
   ]
  },
  {
   "cell_type": "code",
   "execution_count": 17,
   "metadata": {},
   "outputs": [
    {
     "name": "stdout",
     "output_type": "stream",
     "text": [
      "Best estimator for model RandomForestClassifier => RandomForestClassifier(bootstrap=True, class_weight='balanced',\n",
      "            criterion='gini', max_depth=50, max_features='auto',\n",
      "            max_leaf_nodes=None, min_impurity_decrease=0.0,\n",
      "            min_impurity_split=None, min_samples_leaf=1,\n",
      "            min_samples_split=10, min_weight_fraction_leaf=0.0,\n",
      "            n_estimators=500, n_jobs=-1, oob_score=False,\n",
      "            random_state=None, verbose=0, warm_start=False)\n",
      "Best parameters for model RandomForestClassifier => {'n_estimators': 500, 'min_samples_split': 10, 'min_samples_leaf': 1, 'max_depth': 50}\n",
      "Best score RandomForestClassifier => 0.684996161391587\n"
     ]
    }
   ],
   "source": [
    "model_name = rfc.__class__.__name__\n",
    "print(\"Best estimator for model {} => {}\".format(model_name, grid_fit.best_estimator_))\n",
    "print(\"Best parameters for model {} => {}\".format(model_name, grid_fit.best_params_))\n",
    "print(\"Best score {} => {}\".format(model_name, grid_fit.best_score_))"
   ]
  },
  {
   "cell_type": "code",
   "execution_count": 18,
   "metadata": {},
   "outputs": [
    {
     "name": "stdout",
     "output_type": "stream",
     "text": [
      "Feature importance for model RandomForestClassifier\n",
      "longitude                             0.104471\n",
      "latitude                              0.096674\n",
      "quantity_dry                          0.067558\n",
      "id                                    0.062325\n",
      "gps_height                            0.050139\n",
      "pump_age                              0.041752\n",
      "construction_year                     0.037729\n",
      "population                            0.036491\n",
      "district_code                         0.033389\n",
      "quantity_enough                       0.022296\n",
      "extraction_type_other                 0.022215\n",
      "region_code                           0.022165\n",
      "amount_tsh                            0.021525\n",
      "waterpoint_type_other                 0.021422\n",
      "extraction_type_gravity               0.018072\n",
      "quantity_insufficient                 0.015036\n",
      "payment_never pay                     0.011439\n",
      "waterpoint_type_communal standpipe    0.011051\n",
      "permit                                0.010760\n",
      "waterpoint_type_hand pump             0.009384\n",
      "dtype: float64\n"
     ]
    }
   ],
   "source": [
    "important_feature_list = pd.Series(grid_fit.best_estimator_.feature_importances_,list(X_train)).sort_values(ascending=False).head(20)\n",
    "print(\"Feature importance for model {}\\n{}\".format(model_name, important_feature_list))"
   ]
  },
  {
   "cell_type": "markdown",
   "metadata": {},
   "source": [
    "#### Tune the Gradient Boosting Model\n",
    "Use a gridsearch with key model hyper parameters"
   ]
  },
  {
   "cell_type": "code",
   "execution_count": null,
   "metadata": {},
   "outputs": [],
   "source": [
    "gbm = GradientBoostingClassifier(n_estimators=1000, subsample=0.5)\n",
    "\n",
    "# loss=’deviance’, learning_rate=0.1, n_estimators=100, subsample=1.0, criterion=’friedman_mse’,\n",
    "# min_samples_split=2, min_samples_leaf=1, min_weight_fraction_leaf=0.0, max_depth=3, min_impurity_decrease=0.0,\n",
    "# min_impurity_split=None, init=None, random_state=None, max_features=None, verbose=0, max_leaf_nodes=None,\n",
    "# warm_start=False, presort=’auto’\n",
    "\n",
    "parameters = {'learning_rate': [0.01, 0.1], 'max_depth': [3, 5]}\n",
    "\n",
    "# to better manage imbalance outcome classes\n",
    "sss_cv = StratifiedShuffleSplit(n_splits=3, test_size=0.3, random_state=0)\n",
    "\n",
    "# Make an f1_score scoring object using make_scorer()\n",
    "scorer = make_scorer(f1_score, average='macro')\n",
    "\n",
    "# Perform grid search on the classifier using 'scorer' as the scoring method using GridSearchCV()\n",
    "grid_obj = GridSearchCV(estimator=gbm, param_grid=parameters, scoring=scorer, cv=sss_cv, n_jobs=-1)\n",
    "\n",
    "# Fit the grid search object to the training data and find the optimal parameters using fit()\n",
    "grid_fit = grid_obj.fit(X_train, y_train)"
   ]
  },
  {
   "cell_type": "code",
   "execution_count": null,
   "metadata": {},
   "outputs": [
    {
     "name": "stdout",
     "output_type": "stream",
     "text": [
      "Best estimator for model GradientBoostingClassifier => GradientBoostingClassifier(criterion='friedman_mse', init=None,\n",
      "              learning_rate=0.1, loss='deviance', max_depth=5,\n",
      "              max_features=None, max_leaf_nodes=None,\n",
      "              min_impurity_decrease=0.0, min_impurity_split=None,\n",
      "              min_samples_leaf=1, min_samples_split=2,\n",
      "              min_weight_fraction_leaf=0.0, n_estimators=1000,\n",
      "              presort='auto', random_state=None, subsample=0.5, verbose=0,\n",
      "              warm_start=False)\n",
      "Best parameters for modelGradientBoostingClassifier => {'learning_rate': 0.1, 'max_depth': 5}\n",
      "Best score GradientBoostingClassifier => 0.6597379773736959\n"
     ]
    }
   ],
   "source": [
    "model_name = gbm.__class__.__name__\n",
    "print(\"Best estimator for model {} => {}\".format(\n",
    "    model_name, grid_fit.best_estimator_))\n",
    "print(\"Best parameters for model{} => {}\".format(\n",
    "    model_name, grid_fit.best_params_))\n",
    "print(\"Best score {} => {}\".format(model_name, grid_fit.best_score_))"
   ]
  },
  {
   "cell_type": "code",
   "execution_count": 19,
   "metadata": {},
   "outputs": [],
   "source": [
    "\n",
    "def select_gbm_params(max_estimators=1000, max_depth = 5, learning_rate=0.01):\n",
    "    #f1_scorer = make_scorer(f1_score, average='macro')\n",
    "    gbm = GradientBoostingClassifier(n_estimators = max_estimators, learning_rate=learning_rate, \n",
    "                                    max_depth=max_depth, subsample=0.5)\n",
    "    gbm.fit(X_train, y_train)\n",
    "    test_score = np.zeros((max_estimators,), dtype=np.float64)\n",
    "    for i, y_pred in enumerate(gbm.staged_predict(X_test)):\n",
    "        test_score[i] = f1_score(y_test, y_pred, average='macro')\n",
    "        \n",
    "    print('optimal number of trees: {0}'.format(test_score.argmin()))\n",
    "    print('best f1 score: {0}'.format(test_score.max()))\n",
    "    pd.Series(test_score).plot(title='learning curve for max_depth = {0}'.format(max_depth))\n",
    "    plt.show()"
   ]
  },
  {
   "cell_type": "code",
   "execution_count": 20,
   "metadata": {},
   "outputs": [
    {
     "name": "stdout",
     "output_type": "stream",
     "text": [
      "***** training for max depth = 5 *****\n"
     ]
    },
    {
     "name": "stderr",
     "output_type": "stream",
     "text": [
      "C:\\Users\\Chris Cochet\\Anaconda3\\envs\\Python3.6_ScikitLearn_MxNet\\lib\\site-packages\\sklearn\\metrics\\classification.py:1135: UndefinedMetricWarning: F-score is ill-defined and being set to 0.0 in labels with no predicted samples.\n",
      "  'precision', 'predicted', average, warn_for)\n"
     ]
    },
    {
     "name": "stdout",
     "output_type": "stream",
     "text": [
      "optimal number of trees: 0\n",
      "best f1 score: 0.6677448376064502\n"
     ]
    },
    {
     "data": {
      "image/png": "[encoded data removed]",
      "text/plain": [
       "<Figure size 432x288 with 1 Axes>"
      ]
     },
     "metadata": {},
     "output_type": "display_data"
    },
    {
     "name": "stdout",
     "output_type": "stream",
     "text": [
      "***** training for max depth = 8 *****\n",
      "optimal number of trees: 0\n",
      "best f1 score: 0.6743601947034129\n"
     ]
    },
    {
     "data": {
      "image/png": "[encoded data removed]",
      "text/plain": [
       "<Figure size 432x288 with 1 Axes>"
      ]
     },
     "metadata": {},
     "output_type": "display_data"
    },
    {
     "name": "stdout",
     "output_type": "stream",
     "text": [
      "***** training for max depth = 12 *****\n",
      "optimal number of trees: 0\n",
      "best f1 score: 0.6772134682676331\n"
     ]
    },
    {
     "data": {
      "image/png": "[encoded data removed]",
      "text/plain": [
       "<Figure size 432x288 with 1 Axes>"
      ]
     },
     "metadata": {},
     "output_type": "display_data"
    },
    {
     "name": "stdout",
     "output_type": "stream",
     "text": [
      "***** training for max depth = 15 *****\n",
      "optimal number of trees: 0\n",
      "best f1 score: 0.6782295634581995\n"
     ]
    },
    {
     "data": {
      "image/png": "[encoded data removed]",
      "text/plain": [
       "<Figure size 432x288 with 1 Axes>"
      ]
     },
     "metadata": {},
     "output_type": "display_data"
    }
   ],
   "source": [
    "for depth in [5, 8, 12, 15]:\n",
    "    print('***** training for max depth = {0} *****'.format(depth))\n",
    "    select_gbm_params(max_estimators=700, max_depth=depth, learning_rate=0.12)"
   ]
  },
  {
   "cell_type": "markdown",
   "metadata": {},
   "source": [
    "#### Evaluate the XG Boosting Model"
   ]
  },
  {
   "cell_type": "code",
   "execution_count": 24,
   "metadata": {},
   "outputs": [
    {
     "name": "stderr",
     "output_type": "stream",
     "text": [
      "C:\\Users\\Chris Cochet\\Anaconda3\\envs\\Python3.6_ScikitLearn_MxNet\\lib\\site-packages\\sklearn\\preprocessing\\label.py:151: DeprecationWarning: The truth value of an empty array is ambiguous. Returning False, but in future this will result in an error. Use `array.size > 0` to check that an array is not empty.\n",
      "  if diff:\n"
     ]
    }
   ],
   "source": [
    "xgbc = XGBClassifier(\n",
    " eta = 0.2,\n",
    " booster = \"gbtree\",\n",
    " n_estimators=500,\n",
    " max_depth=12,\n",
    " min_child_weight=1,\n",
    " gamma=0,\n",
    " num_class = 3,\n",
    " objective= 'multi:softmax',\n",
    " n_jobs=-1,\n",
    " scale_pos_weight=1)\n",
    "\n",
    "custom_scorer = make_scorer(f1_score, average='macro')\n",
    "\n",
    "xgbc.fit(X_train, y_train)\n",
    "y_pred = xgbc.predict(X_test)\n",
    "test_score = f1_score(y_test, y_pred, average='macro')"
   ]
  },
  {
   "cell_type": "code",
   "execution_count": 25,
   "metadata": {},
   "outputs": [
    {
     "data": {
      "text/plain": [
       "0.6746395670220732"
      ]
     },
     "execution_count": 25,
     "metadata": {},
     "output_type": "execute_result"
    }
   ],
   "source": [
    "test_score"
   ]
  },
  {
   "cell_type": "code",
   "execution_count": 29,
   "metadata": {},
   "outputs": [],
   "source": [
    "xgbc = XGBClassifier()\n",
    "learning_rate = [0.01, 0.1, 0.3]\n",
    "n_estimators = [500, 700, 1000]\n",
    "max_depth = [8, 12, 15, 18]\n",
    "param_grid = dict(max_depth=max_depth, n_estimators=n_estimators, learning_rate=learning_rate)\n",
    "\n",
    "custom_scorer = make_scorer(f1_score, average='macro')\n",
    "\n",
    "kfold = StratifiedKFold(n_splits=5, shuffle=True)\n",
    "grid_search = GridSearchCV(xgbc, param_grid, scoring=custom_scorer, n_jobs=-1, cv=kfold)\n",
    "grid_result = grid_search.fit(X_train, y_train)"
   ]
  },
  {
   "cell_type": "code",
   "execution_count": 30,
   "metadata": {},
   "outputs": [
    {
     "name": "stdout",
     "output_type": "stream",
     "text": [
      "Best: 0.669573 using {'learning_rate': 0.1, 'max_depth': 12, 'n_estimators': 500}\n",
      "0.625123 (0.006198) with: {'learning_rate': 0.01, 'max_depth': 8, 'n_estimators': 500}\n",
      "0.631423 (0.005453) with: {'learning_rate': 0.01, 'max_depth': 8, 'n_estimators': 700}\n",
      "0.638256 (0.004521) with: {'learning_rate': 0.01, 'max_depth': 8, 'n_estimators': 1000}\n",
      "0.655198 (0.006881) with: {'learning_rate': 0.01, 'max_depth': 12, 'n_estimators': 500}\n",
      "0.657737 (0.006587) with: {'learning_rate': 0.01, 'max_depth': 12, 'n_estimators': 700}\n",
      "0.660946 (0.007957) with: {'learning_rate': 0.01, 'max_depth': 12, 'n_estimators': 1000}\n",
      "0.662965 (0.006731) with: {'learning_rate': 0.01, 'max_depth': 15, 'n_estimators': 500}\n",
      "0.665020 (0.007206) with: {'learning_rate': 0.01, 'max_depth': 15, 'n_estimators': 700}\n",
      "0.665573 (0.007320) with: {'learning_rate': 0.01, 'max_depth': 15, 'n_estimators': 1000}\n",
      "0.665774 (0.005590) with: {'learning_rate': 0.01, 'max_depth': 18, 'n_estimators': 500}\n",
      "0.665950 (0.005419) with: {'learning_rate': 0.01, 'max_depth': 18, 'n_estimators': 700}\n",
      "0.667182 (0.005452) with: {'learning_rate': 0.01, 'max_depth': 18, 'n_estimators': 1000}\n",
      "0.663918 (0.008807) with: {'learning_rate': 0.1, 'max_depth': 8, 'n_estimators': 500}\n",
      "0.664098 (0.006788) with: {'learning_rate': 0.1, 'max_depth': 8, 'n_estimators': 700}\n",
      "0.664211 (0.010608) with: {'learning_rate': 0.1, 'max_depth': 8, 'n_estimators': 1000}\n",
      "0.669573 (0.008476) with: {'learning_rate': 0.1, 'max_depth': 12, 'n_estimators': 500}\n",
      "0.668787 (0.008873) with: {'learning_rate': 0.1, 'max_depth': 12, 'n_estimators': 700}\n",
      "0.666585 (0.010619) with: {'learning_rate': 0.1, 'max_depth': 12, 'n_estimators': 1000}\n",
      "0.668584 (0.008386) with: {'learning_rate': 0.1, 'max_depth': 15, 'n_estimators': 500}\n",
      "0.666786 (0.007790) with: {'learning_rate': 0.1, 'max_depth': 15, 'n_estimators': 700}\n",
      "0.667428 (0.008240) with: {'learning_rate': 0.1, 'max_depth': 15, 'n_estimators': 1000}\n",
      "0.669371 (0.007661) with: {'learning_rate': 0.1, 'max_depth': 18, 'n_estimators': 500}\n",
      "0.669338 (0.006651) with: {'learning_rate': 0.1, 'max_depth': 18, 'n_estimators': 700}\n",
      "0.669215 (0.008286) with: {'learning_rate': 0.1, 'max_depth': 18, 'n_estimators': 1000}\n",
      "0.664977 (0.010731) with: {'learning_rate': 0.3, 'max_depth': 8, 'n_estimators': 500}\n",
      "0.664072 (0.009112) with: {'learning_rate': 0.3, 'max_depth': 8, 'n_estimators': 700}\n",
      "0.663764 (0.009265) with: {'learning_rate': 0.3, 'max_depth': 8, 'n_estimators': 1000}\n",
      "0.664436 (0.007443) with: {'learning_rate': 0.3, 'max_depth': 12, 'n_estimators': 500}\n",
      "0.662564 (0.008569) with: {'learning_rate': 0.3, 'max_depth': 12, 'n_estimators': 700}\n",
      "0.663247 (0.007836) with: {'learning_rate': 0.3, 'max_depth': 12, 'n_estimators': 1000}\n",
      "0.667551 (0.008120) with: {'learning_rate': 0.3, 'max_depth': 15, 'n_estimators': 500}\n",
      "0.667541 (0.007448) with: {'learning_rate': 0.3, 'max_depth': 15, 'n_estimators': 700}\n",
      "0.667391 (0.007742) with: {'learning_rate': 0.3, 'max_depth': 15, 'n_estimators': 1000}\n",
      "0.666756 (0.008125) with: {'learning_rate': 0.3, 'max_depth': 18, 'n_estimators': 500}\n",
      "0.665477 (0.008475) with: {'learning_rate': 0.3, 'max_depth': 18, 'n_estimators': 700}\n",
      "0.665357 (0.007900) with: {'learning_rate': 0.3, 'max_depth': 18, 'n_estimators': 1000}\n"
     ]
    }
   ],
   "source": [
    "# summarize results\n",
    "print(\"Best: %f using %s\" % (grid_result.best_score_, grid_result.best_params_))\n",
    "means = grid_result.cv_results_['mean_test_score']\n",
    "stds = grid_result.cv_results_['std_test_score']\n",
    "params = grid_result.cv_results_['params']\n",
    "for mean, stdev, param in zip(means, stds, params):\n",
    "    print(\"%f (%f) with: %r\" % (mean, stdev, param))"
   ]
  },
  {
   "cell_type": "markdown",
   "metadata": {},
   "source": [
    "#### Create and Evaluate the Neural Network Model\n",
    "Use cross validation to tune the model's hyper parameters"
   ]
  },
  {
   "cell_type": "code",
   "execution_count": 41,
   "metadata": {},
   "outputs": [],
   "source": [
    "from keras import metrics\n",
    "from keras.callbacks import ModelCheckpoint\n",
    "# Function to create a NN model for KerasClassifier\n",
    "\n",
    "def create_nn_model(input_shape, output_shape):\n",
    "    print(\"create_model() with input dim = {} and output dim = {}\".format(\n",
    "        input_shape, output_shape))\n",
    "    # create NN model - 3 layers\n",
    "    model = Sequential()\n",
    "    model.add(Dense(64, input_dim=input_shape, activation='relu'))\n",
    "    model.add(Dense(32, input_dim=input_shape, activation='relu'))\n",
    "    model.add(Dense(8, activation='relu'))\n",
    "    model.add(Dense(output_shape, activation='softmax'))\n",
    "    # Compile model, use GPU\n",
    "    model.compile(loss='categorical_crossentropy', optimizer='adam',\n",
    "                  metrics=['accuracy'], context=['gpu(0)'])\n",
    "\n",
    "    print(model.summary())\n",
    "    return model"
   ]
  },
  {
   "cell_type": "code",
   "execution_count": 42,
   "metadata": {},
   "outputs": [],
   "source": [
    "#y_train = encode_label(y_train)"
   ]
  },
  {
   "cell_type": "code",
   "execution_count": 43,
   "metadata": {},
   "outputs": [
    {
     "data": {
      "text/plain": [
       "[functional, non functional, functional needs repair]\n",
       "Categories (3, object): [functional, non functional, functional needs repair]"
      ]
     },
     "execution_count": 43,
     "metadata": {},
     "output_type": "execute_result"
    }
   ],
   "source": [
    "y_train.unique()"
   ]
  },
  {
   "cell_type": "code",
   "execution_count": 44,
   "metadata": {},
   "outputs": [
    {
     "data": {
      "text/plain": [
       "3"
      ]
     },
     "execution_count": 44,
     "metadata": {},
     "output_type": "execute_result"
    }
   ],
   "source": [
    "y_train.nunique()"
   ]
  },
  {
   "cell_type": "code",
   "execution_count": 45,
   "metadata": {},
   "outputs": [
    {
     "name": "stdout",
     "output_type": "stream",
     "text": [
      "create_model() with input dim = 121 and output dim = 3\n",
      "_________________________________________________________________\n",
      "Layer (type)                 Output Shape              Param #   \n",
      "=================================================================\n",
      "dense_13 (Dense)             (None, 64)                7808      \n",
      "_________________________________________________________________\n",
      "dense_14 (Dense)             (None, 32)                2080      \n",
      "_________________________________________________________________\n",
      "dense_15 (Dense)             (None, 8)                 264       \n",
      "_________________________________________________________________\n",
      "dense_16 (Dense)             (None, 3)                 27        \n",
      "=================================================================\n",
      "Total params: 10,179\n",
      "Trainable params: 10,179\n",
      "Non-trainable params: 0\n",
      "_________________________________________________________________\n",
      "None\n",
      "Epoch 1/70\n",
      "  144/20789 [..............................] - ETA: 40s - loss: 1.0142 - acc: 0.5556 "
     ]
    },
    {
     "name": "stderr",
     "output_type": "stream",
     "text": [
      "C:\\Users\\Chris Cochet\\Anaconda3\\envs\\Python3.6_ScikitLearn_MxNet\\lib\\site-packages\\mxnet\\module\\bucketing_module.py:408: UserWarning: Optimizer created manually outside Module but rescale_grad is not normalized to 1.0/batch_size/num_workers (1.0 vs. 0.0625). Is this intended?\n",
      "  force_init=force_init)\n"
     ]
    },
    {
     "name": "stdout",
     "output_type": "stream",
     "text": [
      "20789/20789 [==============================] - 11s 540us/step - loss: 0.6731 - acc: 0.7192\n",
      "Epoch 2/70\n",
      "20789/20789 [==============================] - 11s 509us/step - loss: 0.6007 - acc: 0.7502\n",
      "Epoch 3/70\n",
      "20789/20789 [==============================] - 10s 472us/step - loss: 0.5774 - acc: 0.7612\n",
      "Epoch 4/70\n",
      "20789/20789 [==============================] - 9s 455us/step - loss: 0.5589 - acc: 0.7693\n",
      "Epoch 5/70\n",
      "20789/20789 [==============================] - 10s 475us/step - loss: 0.5467 - acc: 0.7743\n",
      "Epoch 6/70\n",
      "20789/20789 [==============================] - 11s 509us/step - loss: 0.5335 - acc: 0.7815\n",
      "Epoch 7/70\n",
      "20789/20789 [==============================] - 12s 568us/step - loss: 0.5249 - acc: 0.7857\n",
      "Epoch 8/70\n",
      "20789/20789 [==============================] - 10s 469us/step - loss: 0.5153 - acc: 0.7894\n",
      "Epoch 9/70\n",
      "20789/20789 [==============================] - 9s 450us/step - loss: 0.5063 - acc: 0.7917\n",
      "Epoch 10/70\n",
      "20789/20789 [==============================] - 10s 477us/step - loss: 0.5000 - acc: 0.7962\n",
      "Epoch 11/70\n",
      "20789/20789 [==============================] - 10s 494us/step - loss: 0.4919 - acc: 0.7977\n",
      "Epoch 12/70\n",
      "20789/20789 [==============================] - 9s 435us/step - loss: 0.4856 - acc: 0.8029\n",
      "Epoch 13/70\n",
      "20789/20789 [==============================] - 11s 516us/step - loss: 0.4799 - acc: 0.8035\n",
      "Epoch 14/70\n",
      "20789/20789 [==============================] - 10s 470us/step - loss: 0.4743 - acc: 0.8048\n",
      "Epoch 15/70\n",
      "20789/20789 [==============================] - 10s 482us/step - loss: 0.4690 - acc: 0.8070\n",
      "Epoch 16/70\n",
      "20789/20789 [==============================] - 10s 470us/step - loss: 0.4633 - acc: 0.8082\n",
      "Epoch 17/70\n",
      "20789/20789 [==============================] - 10s 487us/step - loss: 0.4598 - acc: 0.8112\n",
      "Epoch 18/70\n",
      "20789/20789 [==============================] - 10s 504us/step - loss: 0.4536 - acc: 0.8119\n",
      "Epoch 19/70\n",
      "20789/20789 [==============================] - 11s 549us/step - loss: 0.4483 - acc: 0.8160\n",
      "Epoch 20/70\n",
      "20789/20789 [==============================] - 11s 516us/step - loss: 0.4446 - acc: 0.8176\n",
      "Epoch 21/70\n",
      "20789/20789 [==============================] - 11s 526us/step - loss: 0.4433 - acc: 0.81491s -\n",
      "Epoch 22/70\n",
      "20789/20789 [==============================] - 12s 598us/step - loss: 0.4368 - acc: 0.8205\n",
      "Epoch 23/70\n",
      "20789/20789 [==============================] - 10s 490us/step - loss: 0.4342 - acc: 0.8206\n",
      "Epoch 24/70\n",
      "20789/20789 [==============================] - 11s 514us/step - loss: 0.4296 - acc: 0.8214\n",
      "Epoch 25/70\n",
      "20789/20789 [==============================] - 10s 480us/step - loss: 0.4263 - acc: 0.8235\n",
      "Epoch 26/70\n",
      "20789/20789 [==============================] - 11s 509us/step - loss: 0.4231 - acc: 0.8259\n",
      "Epoch 27/70\n",
      "20789/20789 [==============================] - 12s 563us/step - loss: 0.4191 - acc: 0.8265\n",
      "Epoch 28/70\n",
      "20789/20789 [==============================] - 10s 483us/step - loss: 0.4190 - acc: 0.8276\n",
      "Epoch 29/70\n",
      "20789/20789 [==============================] - 10s 464us/step - loss: 0.4166 - acc: 0.8304\n",
      "Epoch 30/70\n",
      "20789/20789 [==============================] - 11s 505us/step - loss: 0.4119 - acc: 0.8300\n",
      "Epoch 31/70\n",
      "20789/20789 [==============================] - 9s 454us/step - loss: 0.4100 - acc: 0.8288\n",
      "Epoch 32/70\n",
      "20789/20789 [==============================] - 9s 452us/step - loss: 0.4069 - acc: 0.8328\n",
      "Epoch 33/70\n",
      "20789/20789 [==============================] - 10s 503us/step - loss: 0.4044 - acc: 0.8318\n",
      "Epoch 34/70\n",
      "20789/20789 [==============================] - 11s 515us/step - loss: 0.4014 - acc: 0.8333\n",
      "Epoch 35/70\n",
      "20789/20789 [==============================] - 11s 519us/step - loss: 0.3996 - acc: 0.8366\n",
      "Epoch 36/70\n",
      "20789/20789 [==============================] - 12s 558us/step - loss: 0.3973 - acc: 0.8366\n",
      "Epoch 37/70\n",
      "20789/20789 [==============================] - 11s 517us/step - loss: 0.3947 - acc: 0.8358\n",
      "Epoch 38/70\n",
      "20789/20789 [==============================] - 10s 486us/step - loss: 0.3925 - acc: 0.8367\n",
      "Epoch 39/70\n",
      "20789/20789 [==============================] - 10s 468us/step - loss: 0.3889 - acc: 0.8393\n",
      "Epoch 40/70\n",
      "20789/20789 [==============================] - 9s 452us/step - loss: 0.3876 - acc: 0.8414\n",
      "Epoch 41/70\n",
      "20789/20789 [==============================] - 9s 440us/step - loss: 0.3865 - acc: 0.8386\n",
      "Epoch 42/70\n",
      "20789/20789 [==============================] - 10s 483us/step - loss: 0.3848 - acc: 0.8410\n",
      "Epoch 43/70\n",
      "20789/20789 [==============================] - 9s 426us/step - loss: 0.3830 - acc: 0.8419\n",
      "Epoch 44/70\n",
      "20789/20789 [==============================] - 10s 472us/step - loss: 0.3850 - acc: 0.8408\n",
      "Epoch 45/70\n",
      "20789/20789 [==============================] - 10s 495us/step - loss: 0.3803 - acc: 0.8453\n",
      "Epoch 46/70\n",
      "20789/20789 [==============================] - 12s 558us/step - loss: 0.3797 - acc: 0.8434\n",
      "Epoch 47/70\n",
      "20789/20789 [==============================] - 11s 515us/step - loss: 0.3765 - acc: 0.8432\n",
      "Epoch 48/70\n",
      " 2608/20789 [==>...........................] - ETA: 9s - loss: 0.3467 - acc: 0.8574"
     ]
    },
    {
     "name": "stderr",
     "output_type": "stream",
     "text": [
      "C:\\Users\\Chris Cochet\\Anaconda3\\envs\\Python3.6_ScikitLearn_MxNet\\lib\\site-packages\\keras\\callbacks.py:120: UserWarning: Method on_batch_end() is slow compared to the batch update (0.205217). Check your callbacks.\n",
      "  % delta_t_median)\n"
     ]
    },
    {
     "name": "stdout",
     "output_type": "stream",
     "text": [
      "20789/20789 [==============================] - 10s 485us/step - loss: 0.3756 - acc: 0.8441\n",
      "Epoch 49/70\n",
      "20789/20789 [==============================] - 10s 466us/step - loss: 0.3743 - acc: 0.8464\n",
      "Epoch 50/70\n",
      "20789/20789 [==============================] - 10s 488us/step - loss: 0.3724 - acc: 0.8452\n",
      "Epoch 51/70\n",
      "20789/20789 [==============================] - 10s 474us/step - loss: 0.3730 - acc: 0.8441\n",
      "Epoch 52/70\n",
      "20789/20789 [==============================] - 10s 467us/step - loss: 0.3682 - acc: 0.8489\n",
      "Epoch 53/70\n",
      "20789/20789 [==============================] - 9s 445us/step - loss: 0.3687 - acc: 0.8476\n",
      "Epoch 54/70\n",
      "20789/20789 [==============================] - 10s 472us/step - loss: 0.3675 - acc: 0.8475\n",
      "Epoch 55/70\n",
      "20789/20789 [==============================] - 10s 492us/step - loss: 0.3642 - acc: 0.8488\n",
      "Epoch 56/70\n",
      "20789/20789 [==============================] - 9s 440us/step - loss: 0.3654 - acc: 0.8472\n",
      "Epoch 57/70\n",
      "20789/20789 [==============================] - 9s 455us/step - loss: 0.3629 - acc: 0.8495\n",
      "Epoch 58/70\n",
      "20789/20789 [==============================] - 10s 484us/step - loss: 0.3608 - acc: 0.8481\n",
      "Epoch 59/70\n",
      "20789/20789 [==============================] - 11s 524us/step - loss: 0.3583 - acc: 0.8523\n",
      "Epoch 60/70\n",
      "20789/20789 [==============================] - 9s 448us/step - loss: 0.3605 - acc: 0.8507\n",
      "Epoch 61/70\n",
      "20789/20789 [==============================] - 9s 448us/step - loss: 0.3563 - acc: 0.8530\n",
      "Epoch 62/70\n",
      "20789/20789 [==============================] - 10s 495us/step - loss: 0.3557 - acc: 0.8524\n",
      "Epoch 63/70\n",
      "20789/20789 [==============================] - 11s 517us/step - loss: 0.3560 - acc: 0.8511\n",
      "Epoch 64/70\n",
      "20789/20789 [==============================] - 10s 472us/step - loss: 0.3547 - acc: 0.8544\n",
      "Epoch 65/70\n",
      "20789/20789 [==============================] - 10s 485us/step - loss: 0.3522 - acc: 0.8537\n",
      "Epoch 66/70\n",
      "20789/20789 [==============================] - 11s 521us/step - loss: 0.3546 - acc: 0.8526\n",
      "Epoch 67/70\n",
      "20789/20789 [==============================] - 9s 441us/step - loss: 0.3501 - acc: 0.8548\n",
      "Epoch 68/70\n",
      "20789/20789 [==============================] - 10s 491us/step - loss: 0.3499 - acc: 0.8534\n",
      "Epoch 69/70\n",
      "20789/20789 [==============================] - 11s 528us/step - loss: 0.3489 - acc: 0.8566\n",
      "Epoch 70/70\n",
      "20789/20789 [==============================] - 10s 460us/step - loss: 0.3494 - acc: 0.8560\n",
      "20791/20791 [==============================] - 10s 469us/step\n",
      "create_model() with input dim = 121 and output dim = 3\n",
      "_________________________________________________________________\n",
      "Layer (type)                 Output Shape              Param #   \n",
      "=================================================================\n",
      "dense_17 (Dense)             (None, 64)                7808      \n",
      "_________________________________________________________________\n",
      "dense_18 (Dense)             (None, 32)                2080      \n",
      "_________________________________________________________________\n",
      "dense_19 (Dense)             (None, 8)                 264       \n",
      "_________________________________________________________________\n",
      "dense_20 (Dense)             (None, 3)                 27        \n",
      "=================================================================\n",
      "Total params: 10,179\n",
      "Trainable params: 10,179\n",
      "Non-trainable params: 0\n",
      "_________________________________________________________________\n",
      "None\n",
      "Epoch 1/70\n",
      "  992/20791 [>.............................] - ETA: 13s - loss: 0.9494 - acc: 0.5454"
     ]
    },
    {
     "name": "stderr",
     "output_type": "stream",
     "text": [
      "C:\\Users\\Chris Cochet\\Anaconda3\\envs\\Python3.6_ScikitLearn_MxNet\\lib\\site-packages\\mxnet\\module\\bucketing_module.py:408: UserWarning: Optimizer created manually outside Module but rescale_grad is not normalized to 1.0/batch_size/num_workers (1.0 vs. 0.0625). Is this intended?\n",
      "  force_init=force_init)\n"
     ]
    },
    {
     "name": "stdout",
     "output_type": "stream",
     "text": [
      "20791/20791 [==============================] - 12s 572us/step - loss: 0.6621 - acc: 0.7232\n",
      "Epoch 2/70\n",
      "20791/20791 [==============================] - 12s 588us/step - loss: 0.5888 - acc: 0.7570\n",
      "Epoch 3/70\n",
      "20791/20791 [==============================] - 12s 577us/step - loss: 0.5637 - acc: 0.7667\n",
      "Epoch 4/70\n",
      "20791/20791 [==============================] - 12s 585us/step - loss: 0.5457 - acc: 0.7743\n",
      "Epoch 5/70\n",
      "20791/20791 [==============================] - 11s 506us/step - loss: 0.5331 - acc: 0.7794\n",
      "Epoch 6/70\n",
      "20791/20791 [==============================] - 11s 550us/step - loss: 0.5215 - acc: 0.7854\n",
      "Epoch 7/70\n",
      "20791/20791 [==============================] - 10s 482us/step - loss: 0.5123 - acc: 0.7906\n",
      "Epoch 8/70\n",
      "20791/20791 [==============================] - 10s 493us/step - loss: 0.5030 - acc: 0.7945\n",
      "Epoch 9/70\n",
      "20791/20791 [==============================] - 11s 505us/step - loss: 0.4969 - acc: 0.7955\n",
      "Epoch 10/70\n",
      "20791/20791 [==============================] - 10s 480us/step - loss: 0.4880 - acc: 0.8000\n",
      "Epoch 11/70\n",
      "20791/20791 [==============================] - 9s 420us/step - loss: 0.4820 - acc: 0.8003\n",
      "Epoch 12/70\n",
      "20791/20791 [==============================] - 12s 585us/step - loss: 0.4766 - acc: 0.80281s - loss\n",
      "Epoch 13/70\n",
      "20791/20791 [==============================] - 11s 511us/step - loss: 0.4717 - acc: 0.80474\n",
      "Epoch 14/70\n",
      "20791/20791 [==============================] - 9s 438us/step - loss: 0.4646 - acc: 0.8078\n",
      "Epoch 15/70\n",
      "20791/20791 [==============================] - 10s 480us/step - loss: 0.4613 - acc: 0.8107\n",
      "Epoch 16/70\n",
      "20791/20791 [==============================] - 9s 409us/step - loss: 0.4576 - acc: 0.8122 2s - loss:\n",
      "Epoch 17/70\n",
      "20791/20791 [==============================] - 8s 407us/step - loss: 0.4510 - acc: 0.8131\n",
      "Epoch 18/70\n",
      "20791/20791 [==============================] - 11s 520us/step - loss: 0.4461 - acc: 0.8165\n",
      "Epoch 19/70\n",
      "20791/20791 [==============================] - 8s 408us/step - loss: 0.4425 - acc: 0.8175\n",
      "Epoch 20/70\n",
      "20791/20791 [==============================] - 11s 523us/step - loss: 0.4366 - acc: 0.82190s - loss: 0.43\n",
      "Epoch 21/70\n",
      "20791/20791 [==============================] - 11s 535us/step - loss: 0.4351 - acc: 0.8218\n",
      "Epoch 22/70\n",
      "20791/20791 [==============================] - 10s 504us/step - loss: 0.4301 - acc: 0.8225\n",
      "Epoch 23/70\n",
      "20791/20791 [==============================] - 11s 524us/step - loss: 0.4275 - acc: 0.8219\n",
      "Epoch 24/70\n",
      "20791/20791 [==============================] - 13s 612us/step - loss: 0.4260 - acc: 0.8220\n",
      "Epoch 25/70\n",
      "20791/20791 [==============================] - 10s 475us/step - loss: 0.4187 - acc: 0.8273\n",
      "Epoch 26/70\n",
      "20791/20791 [==============================] - 11s 550us/step - loss: 0.4178 - acc: 0.8263\n",
      "Epoch 27/70\n",
      "20791/20791 [==============================] - 11s 508us/step - loss: 0.4135 - acc: 0.8270\n",
      "Epoch 28/70\n",
      "20791/20791 [==============================] - 10s 488us/step - loss: 0.4131 - acc: 0.8296\n",
      "Epoch 29/70\n",
      "20791/20791 [==============================] - 10s 487us/step - loss: 0.4099 - acc: 0.8293\n",
      "Epoch 30/70\n",
      "20791/20791 [==============================] - 10s 497us/step - loss: 0.4073 - acc: 0.8307\n",
      "Epoch 31/70\n",
      "20791/20791 [==============================] - 9s 441us/step - loss: 0.4060 - acc: 0.8321\n",
      "Epoch 32/70\n",
      "20791/20791 [==============================] - 11s 507us/step - loss: 0.4019 - acc: 0.8337\n",
      "Epoch 33/70\n",
      "20791/20791 [==============================] - 12s 566us/step - loss: 0.3999 - acc: 0.8325\n",
      "Epoch 34/70\n",
      "20791/20791 [==============================] - 10s 474us/step - loss: 0.3978 - acc: 0.8347\n",
      "Epoch 35/70\n",
      "20791/20791 [==============================] - 11s 517us/step - loss: 0.3934 - acc: 0.8357\n",
      "Epoch 36/70\n",
      "20791/20791 [==============================] - 10s 492us/step - loss: 0.3930 - acc: 0.8389\n",
      "Epoch 37/70\n",
      "20791/20791 [==============================] - 10s 478us/step - loss: 0.3909 - acc: 0.8363\n",
      "Epoch 38/70\n",
      "20791/20791 [==============================] - 11s 516us/step - loss: 0.3880 - acc: 0.8379\n",
      "Epoch 39/70\n",
      "20791/20791 [==============================] - 11s 531us/step - loss: 0.3874 - acc: 0.8359\n",
      "Epoch 40/70\n",
      "20791/20791 [==============================] - 11s 518us/step - loss: 0.3845 - acc: 0.8381\n",
      "Epoch 41/70\n",
      "20791/20791 [==============================] - 12s 572us/step - loss: 0.3822 - acc: 0.8407\n",
      "Epoch 42/70\n",
      "20791/20791 [==============================] - 11s 527us/step - loss: 0.3816 - acc: 0.8383\n",
      "Epoch 43/70\n",
      "20791/20791 [==============================] - 10s 490us/step - loss: 0.3781 - acc: 0.8407\n",
      "Epoch 44/70\n",
      "20791/20791 [==============================] - 11s 525us/step - loss: 0.3759 - acc: 0.8407\n",
      "Epoch 45/70\n",
      "20791/20791 [==============================] - 11s 520us/step - loss: 0.3776 - acc: 0.8414\n",
      "Epoch 46/70\n",
      "20791/20791 [==============================] - 10s 472us/step - loss: 0.3728 - acc: 0.8419\n",
      "Epoch 47/70\n",
      "20791/20791 [==============================] - 10s 478us/step - loss: 0.3735 - acc: 0.8441\n",
      "Epoch 48/70\n",
      "20791/20791 [==============================] - 11s 535us/step - loss: 0.3702 - acc: 0.8447\n",
      "Epoch 49/70\n",
      "20791/20791 [==============================] - 11s 542us/step - loss: 0.3677 - acc: 0.8437\n",
      "Epoch 50/70\n",
      "20791/20791 [==============================] - 10s 491us/step - loss: 0.3684 - acc: 0.8469\n",
      "Epoch 51/70\n",
      "20791/20791 [==============================] - 10s 496us/step - loss: 0.3654 - acc: 0.8485\n",
      "Epoch 52/70\n",
      "20791/20791 [==============================] - 8s 396us/step - loss: 0.3648 - acc: 0.8460\n",
      "Epoch 53/70\n",
      "20791/20791 [==============================] - 10s 475us/step - loss: 0.3623 - acc: 0.8478\n",
      "Epoch 54/70\n",
      "20791/20791 [==============================] - 11s 519us/step - loss: 0.3623 - acc: 0.8478\n",
      "Epoch 55/70\n",
      "20791/20791 [==============================] - 11s 541us/step - loss: 0.3606 - acc: 0.85010s - loss: 0.3605 - ac\n",
      "Epoch 56/70\n",
      "20791/20791 [==============================] - 11s 508us/step - loss: 0.3596 - acc: 0.84711s - loss\n",
      "Epoch 57/70\n",
      "20791/20791 [==============================] - 10s 497us/step - loss: 0.3584 - acc: 0.8507\n",
      "Epoch 58/70\n",
      "20791/20791 [==============================] - 11s 509us/step - loss: 0.3558 - acc: 0.8498\n",
      "Epoch 59/70\n",
      "20791/20791 [==============================] - 10s 502us/step - loss: 0.3568 - acc: 0.8488\n",
      "Epoch 60/70\n",
      "20791/20791 [==============================] - 10s 467us/step - loss: 0.3535 - acc: 0.8496\n",
      "Epoch 61/70\n",
      "20791/20791 [==============================] - 10s 494us/step - loss: 0.3534 - acc: 0.8511\n",
      "Epoch 62/70\n",
      "20791/20791 [==============================] - 10s 489us/step - loss: 0.3510 - acc: 0.8528\n",
      "Epoch 63/70\n",
      "20791/20791 [==============================] - 10s 468us/step - loss: 0.3486 - acc: 0.8527\n",
      "Epoch 64/70\n",
      "20791/20791 [==============================] - 10s 503us/step - loss: 0.3500 - acc: 0.8518\n",
      "Epoch 65/70\n",
      "20791/20791 [==============================] - 10s 502us/step - loss: 0.3479 - acc: 0.8546\n",
      "Epoch 66/70\n",
      "20791/20791 [==============================] - 10s 459us/step - loss: 0.3479 - acc: 0.8546\n",
      "Epoch 67/70\n",
      "20791/20791 [==============================] - 10s 505us/step - loss: 0.3421 - acc: 0.8555\n",
      "Epoch 68/70\n",
      "20791/20791 [==============================] - 10s 498us/step - loss: 0.3450 - acc: 0.8546\n",
      "Epoch 69/70\n",
      "20791/20791 [==============================] - 11s 546us/step - loss: 0.3449 - acc: 0.8542\n",
      "Epoch 70/70\n",
      "20791/20791 [==============================] - 10s 479us/step - loss: 0.3426 - acc: 0.8547\n",
      "20789/20789 [==============================] - 7s 325us/step\n"
     ]
    }
   ],
   "source": [
    "input_dim = X_train.shape[1]\n",
    "output_dim = y_train.nunique()\n",
    "n_epoch = 70\n",
    "batch_sz = 16\n",
    "verbose = 1\n",
    "\n",
    "# Build two layer neural network\n",
    "nn_model = KerasClassifier(build_fn=create_nn_model, input_shape=input_dim,\n",
    "                           output_shape=output_dim,  epochs=n_epoch, batch_size=batch_sz, verbose=verbose)\n",
    "\n",
    "#nn_model2 = create_nn_model(input_shape=input_dim, output_shape=output_dim)\n",
    "nn_model_pipeline = make_pipeline(StandardScaler(), nn_model)\n",
    "\n",
    "# evaluate using 10-fold cross validation\n",
    "kfold = StratifiedKFold(n_splits=2, shuffle=True)\n",
    "results = cross_val_score(nn_model_pipeline, X_train, y_train, cv=kfold)"
   ]
  },
  {
   "cell_type": "code",
   "execution_count": null,
   "metadata": {
    "collapsed": true
   },
   "outputs": [],
   "source": []
  }
 ],
 "metadata": {
  "anaconda-cloud": {},
  "kernelspec": {
   "display_name": "Python 3",
   "language": "python",
   "name": "python3"
  },
  "language_info": {
   "codemirror_mode": {
    "name": "ipython",
    "version": 3
   },
   "file_extension": ".py",
   "mimetype": "text/x-python",
   "name": "python",
   "nbconvert_exporter": "python",
   "pygments_lexer": "ipython3",
   "version": "3.6.6"
  }
 },
 "nbformat": 4,
 "nbformat_minor": 1
}
